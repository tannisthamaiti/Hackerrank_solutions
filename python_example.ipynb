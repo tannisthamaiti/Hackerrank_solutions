{
 "cells": [
  {
   "cell_type": "code",
   "execution_count": 6,
   "metadata": {},
   "outputs": [
    {
     "data": {
      "text/plain": [
       "False"
      ]
     },
     "execution_count": 6,
     "metadata": {},
     "output_type": "execute_result"
    }
   ],
   "source": [
    "bool('False')\n",
    "bool()"
   ]
  },
  {
   "cell_type": "code",
   "execution_count": 7,
   "metadata": {},
   "outputs": [
    {
     "data": {
      "text/plain": [
       "'hello'"
      ]
     },
     "execution_count": 7,
     "metadata": {},
     "output_type": "execute_result"
    }
   ],
   "source": [
    "['hello', 'morning'][bool('')]\n",
    "#Explanation: The line of code shown above can be simplified to state that ‘hello’ should \n",
    "#be printed if the argument passed to the Boolean function amounts to zero, else ‘morning’ will be printed."
   ]
  },
  {
   "cell_type": "code",
   "execution_count": 9,
   "metadata": {},
   "outputs": [
    {
     "data": {
      "text/plain": [
       "False"
      ]
     },
     "execution_count": 9,
     "metadata": {},
     "output_type": "execute_result"
    }
   ],
   "source": [
    "not(3>4)\n",
    "not(1&1)\n",
    "#Explanation: The function not returns true if the argument amounts to false, and false if \n",
    "#the argument amounts to true. Hence the first function returns false, and the second function returns false."
   ]
  },
  {
   "cell_type": "code",
   "execution_count": 11,
   "metadata": {},
   "outputs": [
    {
     "data": {
      "text/plain": [
       "'t'"
      ]
     },
     "execution_count": 11,
     "metadata": {},
     "output_type": "execute_result"
    }
   ],
   "source": [
    "['f', 't'][bool('spam')]\n",
    "#Explanation: The line of code can be translated to state that ‘f’ is printed if the argument passed to the Boolean function amount to zero. Else ‘t’ is printed. The argument \n",
    "#given to the Boolean function in the above case is ‘spam’, which does not amount to zero. Hence the output is: t."
   ]
  },
  {
   "cell_type": "code",
   "execution_count": 12,
   "metadata": {},
   "outputs": [
    {
     "data": {
      "text/plain": [
       "[1, 2, 'hello']"
      ]
     },
     "execution_count": 12,
     "metadata": {},
     "output_type": "execute_result"
    }
   ],
   "source": [
    "l=[1, 0, 2, 0, 'hello', '', []]\n",
    "list(filter(bool, l))"
   ]
  },
  {
   "cell_type": "code",
   "execution_count": 13,
   "metadata": {},
   "outputs": [
    {
     "data": {
      "text/plain": [
       "True"
      ]
     },
     "execution_count": 13,
     "metadata": {},
     "output_type": "execute_result"
    }
   ],
   "source": [
    "class Truth:\n",
    "\tpass\n",
    "x=Truth()\n",
    "bool(x)"
   ]
  },
  {
   "cell_type": "code",
   "execution_count": 14,
   "metadata": {},
   "outputs": [
    {
     "name": "stdout",
     "output_type": "stream",
     "text": [
      "good\n"
     ]
    }
   ],
   "source": [
    "if (9 < 0) and (0 < -9):\n",
    "    print(\"hello\")\n",
    "elif (9 > 0) or False:\n",
    "    print(\"good\")\n",
    "else:\n",
    "    print(\"bad\")"
   ]
  },
  {
   "cell_type": "code",
   "execution_count": 15,
   "metadata": {},
   "outputs": [
    {
     "data": {
      "text/plain": [
       "False"
      ]
     },
     "execution_count": 15,
     "metadata": {},
     "output_type": "execute_result"
    }
   ],
   "source": [
    "not(10<20) and not(10>30)"
   ]
  },
  {
   "cell_type": "markdown",
   "metadata": {},
   "source": [
    "## Bisect algorithm \n",
    "Find a position in list where an element needs to be inserted to keep the list sorted.\n",
    "<br>\n",
    "bisect(list, num, beg, end): This function returns the position in the sorted list.\n",
    "<br>\n",
    "bisect_left(list, num, beg, end)  \n",
    "bisect_right(list, num, beg, end) "
   ]
  },
  {
   "cell_type": "code",
   "execution_count": 16,
   "metadata": {},
   "outputs": [
    {
     "name": "stdout",
     "output_type": "stream",
     "text": [
      "The rightmost index to insert, so list remains sorted is  : 5\n",
      "The leftmost index to insert, so list remains sorted is  : 2\n",
      "The rightmost index to insert, so list remains sorted is  : 4\n"
     ]
    }
   ],
   "source": [
    "import bisect \n",
    "  \n",
    "# initializing list \n",
    "li = [1, 3, 4, 4, 4, 6, 7] \n",
    "  \n",
    "# using bisect() to find index to insert new element \n",
    "# returns 5 ( right most possible index ) \n",
    "print (\"The rightmost index to insert, so list remains sorted is  : \", end=\"\") \n",
    "print (bisect.bisect(li, 4)) \n",
    "  \n",
    "# using bisect_left() to find index to insert new element \n",
    "# returns 2 ( left most possible index ) \n",
    "print (\"The leftmost index to insert, so list remains sorted is  : \", end=\"\") \n",
    "print (bisect.bisect_left(li, 4)) \n",
    "  \n",
    "# using bisect_right() to find index to insert new element \n",
    "# returns 4 ( right most possible index ) \n",
    "print (\"The rightmost index to insert, so list remains sorted is  : \", end=\"\") \n",
    "print (bisect.bisect_right(li, 4, 0, 4)) "
   ]
  },
  {
   "cell_type": "markdown",
   "metadata": {},
   "source": [
    "### Heap queue (or heapq) in Python\n",
    "\n",
    "Heap data structure is mainly used to represent a priority queue. \n",
    "Operations on heap :\n",
    "\n",
    "1. heapify(iterable) :- This function is used to convert the iterable into a heap data structure. i.e. in heap order.\n",
    "\n",
    "2. heappush(heap, ele) :- This function is used to insert the element mentioned in its arguments into heap. The order is adjusted, so as heap structure is maintained.\n",
    "\n",
    "3. heappop(heap) :- This function is used to remove and return the smallest element from heap. The order is adjusted, so as heap structure is maintained.\n",
    "4. heappushpop(heap, ele) :- This function combines the functioning of both push and pop operations in one statement, increasing efficiency. Heap order is maintained after this operation.\n",
    "\n",
    "5. heapreplace(heap, ele) :- This function also inserts and pops element in one statement, but it is different from above function. In this, element is first popped, then element is pushed.i.e, the value larger than the pushed value can be returned.\n",
    "6. nlargest(k, iterable, key = fun) :- This function is used to return the k largest elements from the iterable specified and satisfying the key if mentioned.\n",
    "\n",
    "7. nsmallest(k, iterable, key = fun) :- This function is used to return the k smallest elements from the iterable specified and satisfying the key if mentioned."
   ]
  },
  {
   "cell_type": "code",
   "execution_count": 17,
   "metadata": {},
   "outputs": [
    {
     "name": "stdout",
     "output_type": "stream",
     "text": [
      "The created heap is : [1, 3, 9, 7, 5]\n",
      "The modified heap after push is : [1, 3, 4, 7, 5, 9]\n",
      "The popped and smallest element is : 1\n"
     ]
    }
   ],
   "source": [
    "# importing \"heapq\" to implement heap queue \n",
    "import heapq \n",
    "  \n",
    "# initializing list \n",
    "li = [5, 7, 9, 1, 3] \n",
    "  \n",
    "# using heapify to convert list into heap \n",
    "heapq.heapify(li) \n",
    "  \n",
    "# printing created heap \n",
    "print (\"The created heap is : \",end=\"\") \n",
    "print (list(li)) \n",
    "  \n",
    "# using heappush() to push elements into heap \n",
    "# pushes 4 \n",
    "heapq.heappush(li,4) \n",
    "  \n",
    "# printing modified heap \n",
    "print (\"The modified heap after push is : \",end=\"\") \n",
    "print (list(li)) \n",
    "  \n",
    "# using heappop() to pop smallest element \n",
    "print (\"The popped and smallest element is : \",end=\"\") \n",
    "print (heapq.heappop(li))"
   ]
  },
  {
   "cell_type": "code",
   "execution_count": 18,
   "metadata": {},
   "outputs": [
    {
     "name": "stdout",
     "output_type": "stream",
     "text": [
      "The popped item using heappushpop() is : 2\n",
      "The popped item using heapreplace() is : 3\n"
     ]
    }
   ],
   "source": [
    "import heapq \n",
    "  \n",
    "# initializing list 1 \n",
    "li1 = [5, 7, 9, 4, 3] \n",
    "  \n",
    "# initializing list 2 \n",
    "li2 = [5, 7, 9, 4, 3] \n",
    "  \n",
    "# using heapify() to convert list into heap \n",
    "heapq.heapify(li1) \n",
    "heapq.heapify(li2) \n",
    "  \n",
    "# using heappushpop() to push and pop items simultaneously \n",
    "# pops 2 \n",
    "print (\"The popped item using heappushpop() is : \",end=\"\") \n",
    "print (heapq.heappushpop(li1, 2)) \n",
    "  \n",
    "# using heapreplace() to push and pop items simultaneously \n",
    "# pops 3 \n",
    "print (\"The popped item using heapreplace() is : \",end=\"\") \n",
    "print (heapq.heapreplace(li2, 2)) "
   ]
  },
  {
   "cell_type": "code",
   "execution_count": 19,
   "metadata": {},
   "outputs": [
    {
     "name": "stdout",
     "output_type": "stream",
     "text": [
      "The 3 largest numbers in list are : [10, 9, 8]\n",
      "The 3 smallest numbers in list are : [1, 3, 4]\n"
     ]
    }
   ],
   "source": [
    "import heapq \n",
    "  \n",
    "# initializing list  \n",
    "li1 = [6, 7, 9, 4, 3, 5, 8, 10, 1] \n",
    "  \n",
    "# using heapify() to convert list into heap \n",
    "heapq.heapify(li1) \n",
    "  \n",
    "# using nlargest to print 3 largest numbers \n",
    "# prints 10, 9 and 8 \n",
    "print(\"The 3 largest numbers in list are : \",end=\"\") \n",
    "print(heapq.nlargest(3, li1)) \n",
    "  \n",
    "# using nsmallest to print 3 smallest numbers \n",
    "# prints 1, 3 and 4 \n",
    "print(\"The 3 smallest numbers in list are : \",end=\"\") \n",
    "print(heapq.nsmallest(3, li1)) "
   ]
  },
  {
   "cell_type": "markdown",
   "metadata": {},
   "source": [
    "https://codingcompiler.com/python-interview-questions-answers-1-2-3-4-5-years/\n",
    "<br>\n",
    "https://www.w3schools.com/python/python_lambda.asp\n",
    "<br>\n",
    "https://www.sanfoundry.com/python-mcqs-tuples/\n",
    "<br>\n",
    "According to the itertools docs, it is a “module [that] implements a number of iterator building blocks inspired by constructs from APL, Haskell, and SML… Together, they form an ‘iterator algebra’ making it possible to construct specialized tools succinctly and efficiently in pure Python.”"
   ]
  },
  {
   "cell_type": "code",
   "execution_count": 23,
   "metadata": {},
   "outputs": [
    {
     "data": {
      "text/plain": [
       "[(1, 'a'), (2, 'b'), (3, 'c')]"
      ]
     },
     "execution_count": 23,
     "metadata": {},
     "output_type": "execute_result"
    }
   ],
   "source": [
    "list(zip([1, 2, 3], ['a', 'b', 'c']))"
   ]
  },
  {
   "cell_type": "code",
   "execution_count": 24,
   "metadata": {},
   "outputs": [
    {
     "data": {
      "text/plain": [
       "<list_iterator at 0x7f8f603b1048>"
      ]
     },
     "execution_count": 24,
     "metadata": {},
     "output_type": "execute_result"
    }
   ],
   "source": [
    "iter([1, 2, 3, 4])"
   ]
  },
  {
   "cell_type": "code",
   "execution_count": 25,
   "metadata": {},
   "outputs": [
    {
     "data": {
      "text/plain": [
       "[3, 2, 4]"
      ]
     },
     "execution_count": 25,
     "metadata": {},
     "output_type": "execute_result"
    }
   ],
   "source": [
    "list(map(len, ['abc', 'de', 'fghi']))"
   ]
  },
  {
   "cell_type": "code",
   "execution_count": 26,
   "metadata": {},
   "outputs": [
    {
     "data": {
      "text/plain": [
       "[5, 7, 9]"
      ]
     },
     "execution_count": 26,
     "metadata": {},
     "output_type": "execute_result"
    }
   ],
   "source": [
    "list(map(sum, zip([1, 2, 3], [4, 5, 6])))"
   ]
  },
  {
   "cell_type": "code",
   "execution_count": 27,
   "metadata": {},
   "outputs": [
    {
     "data": {
      "text/plain": [
       "[(1, 2), (3, 4), (5, 6), (7, 8), (9, 10)]"
      ]
     },
     "execution_count": 27,
     "metadata": {},
     "output_type": "execute_result"
    }
   ],
   "source": [
    "def naive_grouper(inputs, n):\n",
    "    num_groups = len(inputs) // n\n",
    "    return [tuple(inputs[i*n:(i+1)*n]) for i in range(num_groups)]\n",
    "nums = [1, 2, 3, 4, 5, 6, 7, 8, 9, 10]\n",
    "naive_grouper(nums, 2)"
   ]
  },
  {
   "cell_type": "code",
   "execution_count": 28,
   "metadata": {},
   "outputs": [],
   "source": [
    "def naive_grouper(inputs, n):\n",
    "    num_groups = len(inputs) // n\n",
    "    return [tuple(inputs[i*n:(i+1)*n]) for i in range(num_groups)]\n",
    "\n",
    "\n",
    "for _ in naive_grouper(range(100000000), 10):\n",
    "    pass"
   ]
  },
  {
   "cell_type": "code",
   "execution_count": 29,
   "metadata": {},
   "outputs": [
    {
     "data": {
      "text/plain": [
       "[140253771536144, 140253771536144]"
      ]
     },
     "execution_count": 29,
     "metadata": {},
     "output_type": "execute_result"
    }
   ],
   "source": [
    "nums = [1, 2, 3, 4, 5, 6, 7, 8, 9, 10]\n",
    "iters = [iter(nums)] * 2\n",
    "list(id(itr) for itr in iters)  # IDs are the same."
   ]
  },
  {
   "cell_type": "markdown",
   "metadata": {},
   "source": [
    "itertools\n",
    "https://realpython.com/python-itertools/\n",
    "<br>\n",
    "https://docs.python.org/3.3/library/collections.html"
   ]
  },
  {
   "cell_type": "markdown",
   "metadata": {},
   "source": [
    "## NUMPY EXAMPLES\n",
    "<br>\n",
    "https://www.wisdomjobs.com/e-university/numpy-tutorial-1752/numpy-iterating-over-array-23532.html"
   ]
  },
  {
   "cell_type": "code",
   "execution_count": 5,
   "metadata": {},
   "outputs": [
    {
     "name": "stdout",
     "output_type": "stream",
     "text": [
      "[[1 2 3 4 5]]\n",
      "[1.+0.j 2.+0.j 3.+0.j]\n",
      "int32\n",
      "[(10,) (20,) (30,)]\n",
      "[[1 2]\n",
      " [3 4]\n",
      " [5 6]]\n",
      "[ 0  1  2  3  4  5  6  7  8  9 10 11 12 13 14 15 16 17 18 19 20 21 22 23]\n",
      "1\n",
      "[[1 2]\n",
      " [3 4]\n",
      " [5 6]]\n",
      "[[(0, 0) (0, 0)]\n",
      " [(0, 0) (0, 0)]]\n",
      "[1 2 3]\n",
      "[(1, 2, 3) (4, 5)]\n",
      "[0. 1. 2. 3. 4.]\n",
      "[10 12 14 16 18]\n",
      "[10.  12.5 15.  17.5 20. ]\n",
      "(array([1.  , 1.25, 1.5 , 1.75, 2.  ]), 0.25)\n",
      "[ 10.          12.91549665  16.68100537  21.5443469   27.82559402\n",
      "  35.93813664  46.41588834  59.94842503  77.42636827 100.        ]\n"
     ]
    }
   ],
   "source": [
    "import numpy as np \n",
    "#numpy.array(object, dtype = None, copy = True, order = None, subok = False, ndmin = 0)\n",
    "a = np.array([1, 2, 3,4,5], ndmin = 2) \n",
    "print(a)\n",
    "a = np.array([1, 2, 3], dtype = complex) \n",
    "print(a)\n",
    "dt = np.dtype(np.int32) \n",
    "print (dt)\n",
    "dt = np.dtype([('age',np.int8)]) \n",
    "a = np.array([(10,),(20,),(30,)], dtype = dt) \n",
    "print (a)\n",
    "a = np.array([[1,2,3],[4,5,6]]) \n",
    "b = a.reshape(3,2) \n",
    "print (b)\n",
    "a = np.arange(24) \n",
    "print (a)\n",
    "x = np.array([1,2,3,4,5], dtype = np.int8) \n",
    "print (x.itemsize)\n",
    "x = np.empty([3,2], dtype = int) \n",
    "print (x)\n",
    "x = np.zeros((2,2), dtype = [('x', 'i4'), ('y', 'i4')])  \n",
    "print (x)\n",
    "x = [1,2,3] \n",
    "a = np.asarray(x) \n",
    "print (a)\n",
    "# ndarray from list of tuples \n",
    "x = [(1,2,3),(4,5)] \n",
    "a = np.asarray(x) \n",
    "print (a)\n",
    "x = np.arange(5, dtype = float)\n",
    "print (x)\n",
    "x = np.arange(10,20,2) \n",
    "print (x)\n",
    "x = np.linspace(10,20,5) \n",
    "print (x)\n",
    "x = np.linspace(1,2,5, retstep = True) \n",
    "print (x) \n",
    "a = np.logspace(1.0, 2.0, num = 10) \n",
    "print (a)"
   ]
  },
  {
   "cell_type": "code",
   "execution_count": 12,
   "metadata": {},
   "outputs": [
    {
     "name": "stdout",
     "output_type": "stream",
     "text": [
      "[2 4 6]\n",
      "[2 3 4]\n"
     ]
    }
   ],
   "source": [
    "a = np.arange(10) \n",
    "#start, stop ,step\n",
    "s = slice(2,7,2) \n",
    "print (a[s])\n",
    "a = np.arange(10) \n",
    "print (a[2:5])"
   ]
  },
  {
   "cell_type": "code",
   "execution_count": 15,
   "metadata": {},
   "outputs": [
    {
     "name": "stdout",
     "output_type": "stream",
     "text": [
      "Our array is:\n",
      "[[1 2 3]\n",
      " [3 4 5]\n",
      " [4 5 6]]\n",
      "\n",
      "\n",
      "The items in the second column are:\n",
      "[2 4 5]\n",
      "\n",
      "\n",
      "The items in the second row are:\n",
      "[3 4 5]\n",
      "\n",
      "\n",
      "The items column 1 onwards are:\n",
      "[[2 3]\n",
      " [4 5]\n",
      " [5 6]]\n"
     ]
    }
   ],
   "source": [
    "a = np.array([[1,2,3],[3,4,5],[4,5,6]])\n",
    "print ('Our array is:') \n",
    "print(a)  \n",
    "print ('\\n')\n",
    "# this returns array of items in the second column \n",
    "print ('The items in the second column are:')  \n",
    "print (a[...,1]) \n",
    "print ('\\n')\n",
    "# Now we will slice all items from the second row \n",
    "print ('The items in the second row are:') \n",
    "print (a[1,...]) \n",
    "print ('\\n')\n",
    "# Now we will slice all items from column 1 onwards \n",
    "print ('The items column 1 onwards are:') \n",
    "print (a[...,1:])"
   ]
  },
  {
   "cell_type": "code",
   "execution_count": 20,
   "metadata": {},
   "outputs": [
    {
     "name": "stdout",
     "output_type": "stream",
     "text": [
      "[[1 2]\n",
      " [3 4]\n",
      " [5 6]]\n",
      "[1 4 5]\n"
     ]
    }
   ],
   "source": [
    "x = np.array([[1, 2], [3, 4], [5, 6]]) \n",
    "y = x[[0,1,2], [0,1,0]] \n",
    "print(x)\n",
    "print(y)"
   ]
  },
  {
   "cell_type": "code",
   "execution_count": 21,
   "metadata": {},
   "outputs": [
    {
     "name": "stdout",
     "output_type": "stream",
     "text": [
      "Our array is:\n",
      "[[ 0  1  2]\n",
      " [ 3  4  5]\n",
      " [ 6  7  8]\n",
      " [ 9 10 11]]\n",
      "\n",
      "\n",
      "The corner elements of this array are:\n",
      "[[ 0  2]\n",
      " [ 9 11]]\n"
     ]
    }
   ],
   "source": [
    "x = np.array([[ 0,  1,  2],[ 3,  4,  5],[ 6,  7,  8],[ 9, 10, 11]]) \n",
    "print ('Our array is:' )\n",
    "print (x) \n",
    "print ('\\n')\n",
    "rows = np.array([[0,0],[3,3]])\n",
    "cols = np.array([[0,2],[0,2]]) \n",
    "y = x[rows,cols] \n",
    "print ('The corner elements of this array are:') \n",
    "print (y)"
   ]
  },
  {
   "cell_type": "code",
   "execution_count": 23,
   "metadata": {},
   "outputs": [
    {
     "name": "stdout",
     "output_type": "stream",
     "text": [
      "[1. 2. 3. 4. 5.]\n"
     ]
    }
   ],
   "source": [
    "a = np.array([np.nan, 1,2,np.nan,3,4,5]) \n",
    "print (a[~np.isnan(a)])"
   ]
  },
  {
   "cell_type": "code",
   "execution_count": 24,
   "metadata": {},
   "outputs": [
    {
     "name": "stdout",
     "output_type": "stream",
     "text": [
      "[2. +6.j 3.5+5.j]\n"
     ]
    }
   ],
   "source": [
    "a = np.array([1, 2+6j, 5, 3.5+5j]) \n",
    "print (a[np.iscomplex(a)])"
   ]
  },
  {
   "cell_type": "code",
   "execution_count": 25,
   "metadata": {},
   "outputs": [
    {
     "name": "stdout",
     "output_type": "stream",
     "text": [
      "[ 10  40  90 160]\n"
     ]
    }
   ],
   "source": [
    "a = np.array([1,2,3,4]) \n",
    "b = np.array([10,20,30,40]) \n",
    "c = a * b \n",
    "print (c)"
   ]
  },
  {
   "cell_type": "code",
   "execution_count": 26,
   "metadata": {},
   "outputs": [
    {
     "name": "stdout",
     "output_type": "stream",
     "text": [
      "First array:\n",
      "[[ 0.  0.  0.]\n",
      " [10. 10. 10.]\n",
      " [20. 20. 20.]\n",
      " [30. 30. 30.]]\n",
      "\n",
      "\n",
      "Second array:\n",
      "[1. 2. 3.]\n",
      "\n",
      "\n",
      "First Array + Second Array\n",
      "[[ 1.  2.  3.]\n",
      " [11. 12. 13.]\n",
      " [21. 22. 23.]\n",
      " [31. 32. 33.]]\n"
     ]
    }
   ],
   "source": [
    "a = np.array([[0.0,0.0,0.0],[10.0,10.0,10.0],[20.0,20.0,20.0],[30.0,30.0,30.0]]) \n",
    "b = np.array([1.0,2.0,3.0])  \n",
    "print ('First array:' )\n",
    "print (a) \n",
    "print ('\\n')  \n",
    "print ('Second array:') \n",
    "print (b) \n",
    "print ('\\n')  \n",
    "print ('First Array + Second Array') \n",
    "print (a + b)"
   ]
  },
  {
   "cell_type": "code",
   "execution_count": 27,
   "metadata": {},
   "outputs": [
    {
     "name": "stdout",
     "output_type": "stream",
     "text": [
      "Original array is:\n",
      "[[ 0  5 10 15]\n",
      " [20 25 30 35]\n",
      " [40 45 50 55]]\n",
      "\n",
      "\n",
      "Modified array is:\n",
      "0\n",
      "5\n",
      "10\n",
      "15\n",
      "20\n",
      "25\n",
      "30\n",
      "35\n",
      "40\n",
      "45\n",
      "50\n",
      "55\n"
     ]
    }
   ],
   "source": [
    "a = np.arange(0,60,5)\n",
    "a = a.reshape(3,4)\n",
    "print ('Original array is:')\n",
    "print (a)\n",
    "print ('\\n')\n",
    "print ('Modified array is:')\n",
    "for x in np.nditer(a):\n",
    "    print (x)"
   ]
  },
  {
   "cell_type": "code",
   "execution_count": 28,
   "metadata": {},
   "outputs": [
    {
     "name": "stdout",
     "output_type": "stream",
     "text": [
      "Original array is:\n",
      "[[ 0  5 10 15]\n",
      " [20 25 30 35]\n",
      " [40 45 50 55]]\n",
      "\n",
      "\n",
      "Sorted in C-style order:\n",
      "0\n",
      "5\n",
      "10\n",
      "15\n",
      "20\n",
      "25\n",
      "30\n",
      "35\n",
      "40\n",
      "45\n",
      "50\n",
      "55\n",
      "\n",
      "\n",
      "Sorted in F-style order:\n",
      "0\n",
      "20\n",
      "40\n",
      "5\n",
      "25\n",
      "45\n",
      "10\n",
      "30\n",
      "50\n",
      "15\n",
      "35\n",
      "55\n"
     ]
    }
   ],
   "source": [
    "a = np.arange(0,60,5) \n",
    "a = a.reshape(3,4)\n",
    "print ('Original array is:') \n",
    "print (a) \n",
    "print ('\\n')\n",
    "print ('Sorted in C-style order:') \n",
    "for x in np.nditer(a, order = 'C'): \n",
    "    print (x)  \n",
    "print ('\\n')\n",
    "print ('Sorted in F-style order:') \n",
    "for x in np.nditer(a, order = 'F'): \n",
    "    print (x)\n"
   ]
  },
  {
   "cell_type": "code",
   "execution_count": 29,
   "metadata": {},
   "outputs": [
    {
     "name": "stdout",
     "output_type": "stream",
     "text": [
      "Original array is:\n",
      "[[ 0  5 10 15]\n",
      " [20 25 30 35]\n",
      " [40 45 50 55]]\n",
      "\n",
      "\n",
      "Modified array is:\n",
      "[[  0  10  20  30]\n",
      " [ 40  50  60  70]\n",
      " [ 80  90 100 110]]\n"
     ]
    }
   ],
   "source": [
    "a = np.arange(0,60,5)\n",
    "a = a.reshape(3,4)\n",
    "print ('Original array is:')\n",
    "print (a)\n",
    "print ('\\n')\n",
    "for x in np.nditer(a, op_flags=['readwrite']):\n",
    "    x[...]=2*x\n",
    "print ('Modified array is:')\n",
    "print (a)"
   ]
  },
  {
   "cell_type": "code",
   "execution_count": 30,
   "metadata": {},
   "outputs": [
    {
     "name": "stdout",
     "output_type": "stream",
     "text": [
      "Our array is:\n",
      "[[3 7 5]\n",
      " [8 4 3]\n",
      " [2 4 9]]\n",
      "\n",
      "\n",
      "Applying amin() function:\n",
      "[3 3 2]\n",
      "\n",
      "\n",
      "Applying amin() function again:\n",
      "[2 4 3]\n",
      "\n",
      "\n",
      "Applying amax() function:\n",
      "9\n",
      "\n",
      "\n",
      "Applying amax() function again:\n",
      "[8 7 9]\n"
     ]
    }
   ],
   "source": [
    "a = np.array([[3,7,5],[8,4,3],[2,4,9]])\n",
    "print ('Our array is:')\n",
    "print (a)  \n",
    "print ('\\n')\n",
    "print ('Applying amin() function:') \n",
    "print (np.amin(a,1)) \n",
    "print ('\\n')\n",
    "print ('Applying amin() function again:') \n",
    "print (np.amin(a,0)) \n",
    "print ('\\n')\n",
    "print ('Applying amax() function:') \n",
    "print (np.amax(a)) \n",
    "print ('\\n')\n",
    "print ('Applying amax() function again:') \n",
    "print (np.amax(a, axis = 0))"
   ]
  },
  {
   "cell_type": "code",
   "execution_count": 31,
   "metadata": {},
   "outputs": [
    {
     "name": "stdout",
     "output_type": "stream",
     "text": [
      "Our array is:\n",
      "[[3 7]\n",
      " [9 1]]\n",
      "\n",
      "\n",
      "Applying sort() function:\n",
      "[[3 7]\n",
      " [1 9]]\n",
      "\n",
      "\n",
      "Sort along axis 0:\n",
      "[[3 1]\n",
      " [9 7]]\n",
      "\n",
      "\n",
      "Our array is:\n",
      "[(b'raju', 21) (b'anil', 25) (b'ravi', 17) (b'amar', 27)]\n",
      "\n",
      "\n",
      "Order by name:\n",
      "[(b'amar', 27) (b'anil', 25) (b'raju', 21) (b'ravi', 17)]\n"
     ]
    }
   ],
   "source": [
    "a = np.array([[3,7],[9,1]])\n",
    "print ('Our array is:') \n",
    "print (a) \n",
    "print ('\\n')\n",
    "print ('Applying sort() function:') \n",
    "print (np.sort(a)) \n",
    "print ('\\n') \n",
    "print ('Sort along axis 0:') \n",
    "print (np.sort(a, axis = 0)) \n",
    "print ('\\n')\n",
    "# Order parameter in sort function \n",
    "dt = (np.dtype([('name', 'S10'),('age', int)]))\n",
    "a = (np.array([(\"raju\",21),(\"anil\",25),(\"ravi\", 17), (\"amar\",27)], dtype = dt))\n",
    "print ('Our array is:')\n",
    "print (a)\n",
    "print ('\\n')\n",
    "print ('Order by name:') \n",
    "print (np.sort(a, order = 'name'))\n"
   ]
  },
  {
   "cell_type": "code",
   "execution_count": 32,
   "metadata": {},
   "outputs": [
    {
     "name": "stdout",
     "output_type": "stream",
     "text": [
      "Our array is:\n",
      "[0 1 2 3 4 5]\n",
      "Applying id() function:\n",
      "139800995004944\n",
      "a is assigned to b:\n",
      "[0 1 2 3 4 5]\n",
      "b has same id():\n",
      "139800995004944\n",
      "Change shape of b:\n",
      "[[0 1]\n",
      " [2 3]\n",
      " [4 5]]\n",
      "Shape of a also gets changed:\n",
      "[[0 1]\n",
      " [2 3]\n",
      " [4 5]]\n"
     ]
    }
   ],
   "source": [
    "#A copy of the array object is not made by some of the assignments. The same id() of the original array is used to access.\n",
    "#The universal identifier of the Python object is returned by the id() which is similar to the pointer.\n",
    "a = np.arange(6)\n",
    "print ('Our array is:') \n",
    "print (a)\n",
    "print ('Applying id() function:') \n",
    "print (id(a))\n",
    "print ('a is assigned to b:') \n",
    "b = a \n",
    "print (b)\n",
    "print ('b has same id():') \n",
    "print (id(b))\n",
    "print ('Change shape of b:') \n",
    "b.shape = 3,2 \n",
    "print (b)\n",
    "print ('Shape of a also gets changed:') \n",
    "print (a)"
   ]
  },
  {
   "cell_type": "code",
   "execution_count": 34,
   "metadata": {},
   "outputs": [
    {
     "name": "stdout",
     "output_type": "stream",
     "text": [
      "Our array is:\n",
      "[[10 10]\n",
      " [ 2  3]\n",
      " [ 4  5]]\n",
      "Create a slice:\n",
      "[[10]\n",
      " [ 2]\n",
      " [ 4]]\n"
     ]
    }
   ],
   "source": [
    "a = np.array([[10,10], [2,3], [4,5]])\n",
    "print ('Our array is:') \n",
    "print (a)\n",
    "print ('Create a slice:') \n",
    "s = a[:, :1] \n",
    "print (s) \n"
   ]
  },
  {
   "cell_type": "code",
   "execution_count": 44,
   "metadata": {},
   "outputs": [
    {
     "name": "stdout",
     "output_type": "stream",
     "text": [
      "[[5.e-324 5.e-324]\n",
      " [5.e-324 0.e+000]]\n",
      "[[0.5317121  0.31996351 0.11421053]\n",
      " [0.38291267 0.34884498 0.0377511 ]\n",
      " [0.84540635 0.36239427 0.98916704]]\n",
      "[[1 2]\n",
      " [3 4]]\n"
     ]
    }
   ],
   "source": [
    "import numpy.matlib \n",
    "import numpy as np\n",
    "print (np.matlib.empty((2,2))) \n",
    "print (np.matlib.rand(3,3))\n",
    "i = np.matrix('1,2;3,4') \n",
    "j = np.asarray(i) \n",
    "k = np.asmatrix (j) \n",
    "print (k)"
   ]
  },
  {
   "cell_type": "code",
   "execution_count": 41,
   "metadata": {},
   "outputs": [
    {
     "name": "stdout",
     "output_type": "stream",
     "text": [
      "[3 4 5 2 1]\n",
      "[  0  20  40  60  80 100]\n"
     ]
    }
   ],
   "source": [
    "a = np.array([22,87,5,43,56,73,55,54,11,20,51,5,79,31,27]) \n",
    "np.histogram(a,bins = [0,20,40,60,80,100]) \n",
    "hist,bins = np.histogram(a,bins = [0,20,40,60,80,100]) \n",
    "print (hist) \n",
    "print (bins) "
   ]
  },
  {
   "cell_type": "code",
   "execution_count": 43,
   "metadata": {},
   "outputs": [
    {
     "data": {
      "text/plain": [
       "<Figure size 640x480 with 1 Axes>"
      ]
     },
     "metadata": {},
     "output_type": "display_data"
    }
   ],
   "source": [
    "import matplotlib.pyplot as plt\n",
    "a = np.array([22,87,5,43,56,73,55,54,11,20,51,5,79,31,27]) \n",
    "plt.hist(a, bins = [0,20,40,60,80,100]) \n",
    "plt.title(\"histogram\") \n",
    "plt.show()"
   ]
  },
  {
   "cell_type": "code",
   "execution_count": 46,
   "metadata": {},
   "outputs": [
    {
     "name": "stdout",
     "output_type": "stream",
     "text": [
      "abc\n",
      "cd\n"
     ]
    }
   ],
   "source": [
    "print(\"a\"+\"bc\")\n",
    "print(\"abcd\"[2:])"
   ]
  },
  {
   "cell_type": "code",
   "execution_count": 47,
   "metadata": {},
   "outputs": [
    {
     "data": {
      "text/plain": [
       "'o'"
      ]
     },
     "execution_count": 47,
     "metadata": {},
     "output_type": "execute_result"
    }
   ],
   "source": [
    "str1 = 'hello'\n",
    "str2 = ','\n",
    "str3 = 'world'\n",
    "str1[-1:]"
   ]
  },
  {
   "cell_type": "code",
   "execution_count": 50,
   "metadata": {},
   "outputs": [
    {
     "name": "stdout",
     "output_type": "stream",
     "text": [
      "\\nhello\n",
      "33\n"
     ]
    }
   ],
   "source": [
    "print (r\"\\nhello\")\n",
    "print(0xA + 0xB + 0xC)  #hexadecimal"
   ]
  },
  {
   "cell_type": "code",
   "execution_count": 51,
   "metadata": {},
   "outputs": [
    {
     "ename": "AttributeError",
     "evalue": "'child' object has no attribute 'o1'",
     "output_type": "error",
     "traceback": [
      "\u001b[0;31m---------------------------------------------------------------------------\u001b[0m",
      "\u001b[0;31mAttributeError\u001b[0m                            Traceback (most recent call last)",
      "\u001b[0;32m<ipython-input-51-deee699ceda1>\u001b[0m in \u001b[0;36m<module>\u001b[0;34m()\u001b[0m\n\u001b[1;32m      7\u001b[0m \u001b[0;34m\u001b[0m\u001b[0m\n\u001b[1;32m      8\u001b[0m \u001b[0mobj\u001b[0m \u001b[0;34m=\u001b[0m \u001b[0mchild\u001b[0m\u001b[0;34m(\u001b[0m\u001b[0;36m22\u001b[0m\u001b[0;34m)\u001b[0m\u001b[0;34m\u001b[0m\u001b[0m\n\u001b[0;32m----> 9\u001b[0;31m \u001b[0mprint\u001b[0m \u001b[0;34m(\u001b[0m\u001b[0;34m\"%d %d\"\u001b[0m \u001b[0;34m%\u001b[0m \u001b[0;34m(\u001b[0m\u001b[0mobj\u001b[0m\u001b[0;34m.\u001b[0m\u001b[0mo1\u001b[0m\u001b[0;34m,\u001b[0m \u001b[0mobj\u001b[0m\u001b[0;34m.\u001b[0m\u001b[0mo2\u001b[0m\u001b[0;34m)\u001b[0m\u001b[0;34m)\u001b[0m\u001b[0;34m\u001b[0m\u001b[0m\n\u001b[0m",
      "\u001b[0;31mAttributeError\u001b[0m: 'child' object has no attribute 'o1'"
     ]
    }
   ],
   "source": [
    "class father:\n",
    "    def __init__(self, param):\n",
    "        self.o1 = param\n",
    "class child(father):\n",
    "    def __init__(self, param):\n",
    "        self.o2 = param\n",
    "    \n",
    "obj = child(22)\n",
    "print (\"%d %d\" % (obj.o1, obj.o2))"
   ]
  },
  {
   "cell_type": "code",
   "execution_count": 52,
   "metadata": {},
   "outputs": [
    {
     "ename": "TypeError",
     "evalue": "'str' object does not support item assignment",
     "output_type": "error",
     "traceback": [
      "\u001b[0;31m---------------------------------------------------------------------------\u001b[0m",
      "\u001b[0;31mTypeError\u001b[0m                                 Traceback (most recent call last)",
      "\u001b[0;32m<ipython-input-52-3e47e798bf2e>\u001b[0m in \u001b[0;36m<module>\u001b[0;34m()\u001b[0m\n\u001b[1;32m      1\u001b[0m \u001b[0;31m#Strings cannot be modified.\u001b[0m\u001b[0;34m\u001b[0m\u001b[0;34m\u001b[0m\u001b[0m\n\u001b[1;32m      2\u001b[0m \u001b[0mexample\u001b[0m \u001b[0;34m=\u001b[0m \u001b[0;34m\"snow world\"\u001b[0m\u001b[0;34m\u001b[0m\u001b[0m\n\u001b[0;32m----> 3\u001b[0;31m \u001b[0mexample\u001b[0m\u001b[0;34m[\u001b[0m\u001b[0;36m3\u001b[0m\u001b[0;34m]\u001b[0m \u001b[0;34m=\u001b[0m \u001b[0;34m's'\u001b[0m\u001b[0;34m\u001b[0m\u001b[0m\n\u001b[0m\u001b[1;32m      4\u001b[0m \u001b[0mprint\u001b[0m \u001b[0;34m(\u001b[0m\u001b[0mexample\u001b[0m\u001b[0;34m)\u001b[0m\u001b[0;34m\u001b[0m\u001b[0m\n",
      "\u001b[0;31mTypeError\u001b[0m: 'str' object does not support item assignment"
     ]
    }
   ],
   "source": [
    "#Strings cannot be modified.\n",
    "example = \"snow world\"\n",
    "example[3] = 's'\n",
    "print (example)"
   ]
  },
  {
   "cell_type": "code",
   "execution_count": null,
   "metadata": {},
   "outputs": [],
   "source": [
    "To concatenate two strings to a third what statements are applicable ?\n",
    "s3 = s1.__add__(s2)"
   ]
  },
  {
   "cell_type": "code",
   "execution_count": 53,
   "metadata": {},
   "outputs": [
    {
     "name": "stdout",
     "output_type": "stream",
     "text": [
      "c\n"
     ]
    }
   ],
   "source": [
    "print(chr(ord('b')+1))"
   ]
  },
  {
   "cell_type": "code",
   "execution_count": 54,
   "metadata": {},
   "outputs": [
    {
     "name": "stdout",
     "output_type": "stream",
     "text": [
      "Welcome   # 111#924.66\n"
     ]
    }
   ],
   "source": [
    "print(format(\"Welcome\", \"10s\"), end = '#')\n",
    "print(format(111, \"4d\"), end = '#')\n",
    "print(format(924.656, \"3.2f\"))"
   ]
  },
  {
   "cell_type": "code",
   "execution_count": 55,
   "metadata": {},
   "outputs": [
    {
     "name": "stdout",
     "output_type": "stream",
     "text": [
      "0 a\n",
      "1 b\n",
      "2 c\n"
     ]
    }
   ],
   "source": [
    "d = {0: 'a', 1: 'b', 2: 'c'}\n",
    "for x, y in d.items():\n",
    "    print(x, y)"
   ]
  },
  {
   "cell_type": "code",
   "execution_count": 56,
   "metadata": {},
   "outputs": [
    {
     "name": "stdout",
     "output_type": "stream",
     "text": [
      "a\n",
      "b\n",
      "c\n"
     ]
    }
   ],
   "source": [
    "d = {0: 'a', 1: 'b', 2: 'c'}\n",
    "for x in d.keys():\n",
    "    print(d[x])"
   ]
  },
  {
   "cell_type": "code",
   "execution_count": 57,
   "metadata": {},
   "outputs": [
    {
     "name": "stdout",
     "output_type": "stream",
     "text": [
      "None\n",
      "None\n",
      "None\n"
     ]
    }
   ],
   "source": [
    "d = {0, 1, 2}\n",
    "for x in d:\n",
    "    print(d.add(x))"
   ]
  },
  {
   "cell_type": "code",
   "execution_count": 58,
   "metadata": {},
   "outputs": [
    {
     "name": "stdout",
     "output_type": "stream",
     "text": [
      "Abc. def\n"
     ]
    }
   ],
   "source": [
    "print(\"abc. DEF\".capitalize())"
   ]
  },
  {
   "cell_type": "code",
   "execution_count": 60,
   "metadata": {},
   "outputs": [
    {
     "name": "stdout",
     "output_type": "stream",
     "text": [
      "*  abcdef *\n"
     ]
    }
   ],
   "source": [
    "print('*', \"abcdef\".center(7), '*')\n",
    "#Padding is done towards the left-hand-side first when the final \n",
    "#string is of odd length. Extra spaces are present since we haven’t overridden the value of sep."
   ]
  },
  {
   "cell_type": "code",
   "execution_count": 61,
   "metadata": {},
   "outputs": [
    {
     "ename": "TypeError",
     "evalue": "The fill character must be a unicode character, not int",
     "output_type": "error",
     "traceback": [
      "\u001b[0;31m---------------------------------------------------------------------------\u001b[0m",
      "\u001b[0;31mTypeError\u001b[0m                                 Traceback (most recent call last)",
      "\u001b[0;32m<ipython-input-61-f8dc44c46680>\u001b[0m in \u001b[0;36m<module>\u001b[0;34m()\u001b[0m\n\u001b[0;32m----> 1\u001b[0;31m \u001b[0mprint\u001b[0m\u001b[0;34m(\u001b[0m\u001b[0;34m\"abcdef\"\u001b[0m\u001b[0;34m.\u001b[0m\u001b[0mcenter\u001b[0m\u001b[0;34m(\u001b[0m\u001b[0;36m7\u001b[0m\u001b[0;34m,\u001b[0m \u001b[0;36m1\u001b[0m\u001b[0;34m)\u001b[0m\u001b[0;34m)\u001b[0m\u001b[0;34m\u001b[0m\u001b[0m\n\u001b[0m",
      "\u001b[0;31mTypeError\u001b[0m: The fill character must be a unicode character, not int"
     ]
    }
   ],
   "source": [
    "print(\"abcdef\".center(7, 1))"
   ]
  },
  {
   "cell_type": "code",
   "execution_count": 62,
   "metadata": {},
   "outputs": [
    {
     "name": "stdout",
     "output_type": "stream",
     "text": [
      "2\n"
     ]
    }
   ],
   "source": [
    "print(\"xyyzxyzxzxyy\".count('yy', 1))\n",
    "#Explanation: Counts the number of times the substring \n",
    "#‘yy’ is present in the given string, starting from position 1."
   ]
  },
  {
   "cell_type": "code",
   "execution_count": 63,
   "metadata": {},
   "outputs": [
    {
     "name": "stdout",
     "output_type": "stream",
     "text": [
      "b'abc'\n"
     ]
    }
   ],
   "source": [
    "print('abc'.encode())"
   ]
  },
  {
   "cell_type": "code",
   "execution_count": 64,
   "metadata": {},
   "outputs": [
    {
     "name": "stdout",
     "output_type": "stream",
     "text": [
      "ab  cd  ef\n"
     ]
    }
   ],
   "source": [
    "print(\"ab\\tcd\\tef\".expandtabs(4))"
   ]
  },
  {
   "cell_type": "code",
   "execution_count": 65,
   "metadata": {},
   "outputs": [
    {
     "name": "stdout",
     "output_type": "stream",
     "text": [
      "False\n"
     ]
    }
   ],
   "source": [
    "print(\"abcdef\".find(\"cd\") == \"cd\" in \"abcdef\")"
   ]
  },
  {
   "cell_type": "code",
   "execution_count": 66,
   "metadata": {},
   "outputs": [
    {
     "name": "stdout",
     "output_type": "stream",
     "text": [
      "The sum of 2 and 10 is 12\n"
     ]
    }
   ],
   "source": [
    "print('The sum of {0} and {1} is {2}'.format(2, 10, 12))"
   ]
  },
  {
   "cell_type": "code",
   "execution_count": 67,
   "metadata": {},
   "outputs": [
    {
     "name": "stdout",
     "output_type": "stream",
     "text": [
      "1,112,223,334\n"
     ]
    }
   ],
   "source": [
    "print('{:,}'.format(1112223334))"
   ]
  },
  {
   "cell_type": "code",
   "execution_count": 68,
   "metadata": {},
   "outputs": [
    {
     "name": "stdout",
     "output_type": "stream",
     "text": [
      "1112223334\n"
     ]
    }
   ],
   "source": [
    "print('{:#}'.format(1112223334))"
   ]
  },
  {
   "cell_type": "code",
   "execution_count": 69,
   "metadata": {},
   "outputs": [
    {
     "name": "stdout",
     "output_type": "stream",
     "text": [
      "True\n"
     ]
    }
   ],
   "source": [
    "print('ab12'.isalnum())"
   ]
  },
  {
   "cell_type": "code",
   "execution_count": 70,
   "metadata": {},
   "outputs": [
    {
     "name": "stdout",
     "output_type": "stream",
     "text": [
      "True\n"
     ]
    }
   ],
   "source": [
    "#Even keywords are considered as valid identifiers.\n",
    "print('for'.isidentifier())"
   ]
  },
  {
   "cell_type": "code",
   "execution_count": 71,
   "metadata": {},
   "outputs": [
    {
     "name": "stdout",
     "output_type": "stream",
     "text": [
      "foo\n"
     ]
    }
   ],
   "source": [
    "print('''\\tfoo'''.lstrip())"
   ]
  },
  {
   "cell_type": "code",
   "execution_count": 72,
   "metadata": {},
   "outputs": [
    {
     "name": "stdout",
     "output_type": "stream",
     "text": [
      "zxxy\n"
     ]
    }
   ],
   "source": [
    "print('xyxxyyzxxy'.lstrip('xyy'))"
   ]
  },
  {
   "cell_type": "code",
   "execution_count": 74,
   "metadata": {},
   "outputs": [
    {
     "name": "stdout",
     "output_type": "stream",
     "text": [
      "('ab', 'cd', 'ef')\n"
     ]
    }
   ],
   "source": [
    "#The string is split into three parts by partition.\n",
    "print('abcdef'.partition('cd'))"
   ]
  },
  {
   "cell_type": "code",
   "execution_count": 76,
   "metadata": {},
   "outputs": [
    {
     "name": "stdout",
     "output_type": "stream",
     "text": [
      "xyyxyyxyxyxxy\n",
      "12yxyyxyxyxxy\n"
     ]
    }
   ],
   "source": [
    "#The first 0 occurrences of the given substring are replaced.\n",
    "print('xyyxyyxyxyxxy'.replace('xy', '12', 0))\n",
    "print('xyyxyyxyxyxxy'.replace('xy', '12', 1))"
   ]
  },
  {
   "cell_type": "code",
   "execution_count": 77,
   "metadata": {},
   "outputs": [
    {
     "name": "stdout",
     "output_type": "stream",
     "text": [
      "['ab', 'ef', 'gh', '']\n"
     ]
    }
   ],
   "source": [
    "print('abcdefcdghcd'.split('cd', -1))"
   ]
  },
  {
   "cell_type": "code",
   "execution_count": 78,
   "metadata": {},
   "outputs": [
    {
     "name": "stdout",
     "output_type": "stream",
     "text": [
      "['ab', 'cd', 'ef']\n"
     ]
    }
   ],
   "source": [
    "print('ab\\ncd\\nef'.splitlines())"
   ]
  },
  {
   "cell_type": "code",
   "execution_count": 79,
   "metadata": {},
   "outputs": [
    {
     "name": "stdout",
     "output_type": "stream",
     "text": [
      "bcdd\n"
     ]
    }
   ],
   "source": [
    "print('abcd'.translate('a'.maketrans('abc', 'bcd')))"
   ]
  },
  {
   "cell_type": "code",
   "execution_count": 80,
   "metadata": {},
   "outputs": [
    {
     "name": "stdout",
     "output_type": "stream",
     "text": [
      "bcdd\n"
     ]
    }
   ],
   "source": [
    "print('abcd'.translate({97: 98, 98: 99, 99: 100}))"
   ]
  },
  {
   "cell_type": "code",
   "execution_count": 81,
   "metadata": {},
   "outputs": [
    {
     "name": "stdout",
     "output_type": "stream",
     "text": [
      "+0099\n"
     ]
    }
   ],
   "source": [
    "print('+99'.zfill(5))"
   ]
  },
  {
   "cell_type": "code",
   "execution_count": 82,
   "metadata": {},
   "outputs": [
    {
     "data": {
      "text/plain": [
       "['a', 'b', 'c', 'd']"
      ]
     },
     "execution_count": 82,
     "metadata": {},
     "output_type": "execute_result"
    }
   ],
   "source": [
    "list(\"a#b#c#d\".split('#'))"
   ]
  },
  {
   "cell_type": "code",
   "execution_count": 83,
   "metadata": {},
   "outputs": [
    {
     "name": "stdout",
     "output_type": "stream",
     "text": [
      "1\n"
     ]
    }
   ],
   "source": [
    "myList = [1, 5, 5, 5, 5, 1]\n",
    "max = myList[0]\n",
    "indexOfMax = 0\n",
    "for i in range(1, len(myList)):\n",
    "    if myList[i] > max:\n",
    "        max = myList[i]\n",
    "        indexOfMax = i\n",
    "print(indexOfMax)"
   ]
  },
  {
   "cell_type": "code",
   "execution_count": 84,
   "metadata": {},
   "outputs": [
    {
     "name": "stdout",
     "output_type": "stream",
     "text": [
      "2 2 3 4 5 6 2 3 3 4 5 6 2 3 4 4 5 6 2 3 4 5 5 6 2 3 4 5 6 6 "
     ]
    }
   ],
   "source": [
    "myList = [1, 2, 3, 4, 5, 6]\n",
    "for i in range(1, 6):\n",
    "    myList[i - 1] = myList[i]\n",
    "    for i in range(0, 6): \n",
    "        print(myList[i], end = \" \")"
   ]
  },
  {
   "cell_type": "code",
   "execution_count": 85,
   "metadata": {},
   "outputs": [
    {
     "name": "stdout",
     "output_type": "stream",
     "text": [
      "['carrot', 'celery', 'broccoli', 'potato', 'asparagus']\n"
     ]
    }
   ],
   "source": [
    "veggies = ['carrot', 'broccoli', 'potato', 'asparagus']\n",
    "veggies.insert(veggies.index('broccoli'), 'celery')\n",
    "print(veggies)"
   ]
  },
  {
   "cell_type": "code",
   "execution_count": 87,
   "metadata": {},
   "outputs": [
    {
     "name": "stdout",
     "output_type": "stream",
     "text": [
      "[[0, 0], [0, 1], [0, 2], [0, 3], [1, 0], [1, 1], [1, 2], [1, 3], [2, 0], [2, 1], [2, 2], [2, 3], [3, 0], [3, 1], [3, 2], [3, 3]]\n"
     ]
    }
   ],
   "source": [
    "m = [[x, y] for x in range(0, 4) for y in range(0, 4)]\n",
    "print(m)"
   ]
  },
  {
   "cell_type": "code",
   "execution_count": 88,
   "metadata": {},
   "outputs": [
    {
     "name": "stdout",
     "output_type": "stream",
     "text": [
      "2 5 9 13 "
     ]
    }
   ],
   "source": [
    "matrix = [[1, 2, 3, 4],\n",
    "          [4, 5, 6, 7],\n",
    "          [8, 9, 10, 11],\n",
    "          [12, 13, 14, 15]]\n",
    "for i in range(0, 4):\n",
    "    print(matrix[i][1], end = \" \")"
   ]
  },
  {
   "cell_type": "code",
   "execution_count": 95,
   "metadata": {},
   "outputs": [
    {
     "name": "stdout",
     "output_type": "stream",
     "text": [
      "1\n"
     ]
    }
   ],
   "source": [
    "data = [[[1, 2], [3, 4]], [[5, 6], [7, 8]]]\n",
    "\n",
    "def ttt(m):\n",
    "    v = m[0][0]\n",
    "\n",
    "    for row in m:\n",
    "        for element in row:\n",
    "            if v < element: \n",
    "                v = element\n",
    "            return (v)\n",
    "print(ttt(data[0]))"
   ]
  },
  {
   "cell_type": "code",
   "execution_count": 96,
   "metadata": {},
   "outputs": [
    {
     "name": "stdout",
     "output_type": "stream",
     "text": [
      "[10, 23, 56, [95]]\n"
     ]
    }
   ],
   "source": [
    "a=[10,23,56,[78]]\n",
    "b=list(a)\n",
    "a[3][0]=95\n",
    "a[1]=34\n",
    "print(b)"
   ]
  },
  {
   "cell_type": "code",
   "execution_count": 97,
   "metadata": {},
   "outputs": [
    {
     "name": "stdout",
     "output_type": "stream",
     "text": [
      "['a', '@', 'b@c@d']\n",
      "['a', 'b', 'c', 'd']\n"
     ]
    }
   ],
   "source": [
    "s=\"a@b@c@d\"\n",
    "a=list(s.partition(\"@\"))\n",
    "print(a)\n",
    "b=list(s.split(\"@\",3))\n",
    "print(b)"
   ]
  },
  {
   "cell_type": "code",
   "execution_count": 98,
   "metadata": {},
   "outputs": [
    {
     "name": "stdout",
     "output_type": "stream",
     "text": [
      "[1, 3, 6, 10]\n"
     ]
    }
   ],
   "source": [
    "a=[1,2,3,4]\n",
    "b=[sum(a[0:x+1]) for x in range(0,len(a))]\n",
    "print(b)"
   ]
  },
  {
   "cell_type": "code",
   "execution_count": 99,
   "metadata": {},
   "outputs": [
    {
     "name": "stdout",
     "output_type": "stream",
     "text": [
      "True\n",
      "False\n"
     ]
    }
   ],
   "source": [
    "word1=\"Apple\"\n",
    "word2=\"Apple\"\n",
    "list1=[1,2,3]\n",
    "list2=[1,2,3]\n",
    "print(word1 is word2)\n",
    "print(list1 is list2)"
   ]
  },
  {
   "cell_type": "code",
   "execution_count": 102,
   "metadata": {},
   "outputs": [
    {
     "name": "stdout",
     "output_type": "stream",
     "text": [
      "[0, 1, 2]\n"
     ]
    }
   ],
   "source": [
    "x = [i**+1 for i in range(3)]; print(x);"
   ]
  },
  {
   "cell_type": "code",
   "execution_count": 105,
   "metadata": {},
   "outputs": [
    {
     "data": {
      "text/plain": [
       "[4, 5, 6, 8, 10, 12, 12, 15, 18]"
      ]
     },
     "execution_count": 105,
     "metadata": {},
     "output_type": "execute_result"
    }
   ],
   "source": [
    "l1=[1,2,3]\n",
    "l2=[4,5,6]\n",
    "[x*y for x in l1 for y in l2]"
   ]
  },
  {
   "cell_type": "code",
   "execution_count": 106,
   "metadata": {},
   "outputs": [
    {
     "data": {
      "text/plain": [
       "[4, 5, 6, 8, 10, 12, 12, 15, 18]"
      ]
     },
     "execution_count": 106,
     "metadata": {},
     "output_type": "execute_result"
    }
   ],
   "source": [
    "l1=[1,2,3]\n",
    "l2=[4,5,6]\n",
    "[x*y for x in l1 for y in l2]"
   ]
  },
  {
   "cell_type": "code",
   "execution_count": 107,
   "metadata": {},
   "outputs": [
    {
     "ename": "TypeError",
     "evalue": "'float' object is not iterable",
     "output_type": "error",
     "traceback": [
      "\u001b[0;31m---------------------------------------------------------------------------\u001b[0m",
      "\u001b[0;31mTypeError\u001b[0m                                 Traceback (most recent call last)",
      "\u001b[0;32m<ipython-input-107-bf44b4ff997a>\u001b[0m in \u001b[0;36m<module>\u001b[0;34m()\u001b[0m\n\u001b[1;32m      1\u001b[0m \u001b[0mt\u001b[0m\u001b[0;34m=\u001b[0m\u001b[0;36m32.00\u001b[0m\u001b[0;34m\u001b[0m\u001b[0m\n\u001b[0;32m----> 2\u001b[0;31m \u001b[0;34m[\u001b[0m\u001b[0mround\u001b[0m\u001b[0;34m(\u001b[0m\u001b[0;34m(\u001b[0m\u001b[0mx\u001b[0m\u001b[0;34m-\u001b[0m\u001b[0;36m32\u001b[0m\u001b[0;34m)\u001b[0m\u001b[0;34m*\u001b[0m\u001b[0;36m5\u001b[0m\u001b[0;34m/\u001b[0m\u001b[0;36m9\u001b[0m\u001b[0;34m)\u001b[0m \u001b[0;32mfor\u001b[0m \u001b[0mx\u001b[0m \u001b[0;32min\u001b[0m \u001b[0mt\u001b[0m\u001b[0;34m]\u001b[0m\u001b[0;34m\u001b[0m\u001b[0m\n\u001b[0m",
      "\u001b[0;31mTypeError\u001b[0m: 'float' object is not iterable"
     ]
    }
   ],
   "source": [
    "t=32.00\n",
    "[round((x-32)*5/9) for x in t]"
   ]
  },
  {
   "cell_type": "code",
   "execution_count": 108,
   "metadata": {},
   "outputs": [
    {
     "name": "stdout",
     "output_type": "stream",
     "text": [
      "2\n",
      "4\n",
      "6\n",
      "8\n",
      "10\n",
      "12\n",
      "14\n",
      "16\n",
      "18\n",
      "20\n",
      "22\n",
      "24\n",
      "26\n",
      "28\n",
      "30\n",
      "32\n",
      "34\n",
      "36\n",
      "38\n",
      "40\n",
      "42\n",
      "44\n",
      "46\n",
      "48\n",
      "50\n",
      "52\n",
      "54\n",
      "56\n",
      "58\n",
      "60\n",
      "62\n",
      "64\n",
      "66\n",
      "68\n",
      "70\n",
      "72\n",
      "74\n",
      "76\n",
      "78\n",
      "80\n",
      "82\n",
      "84\n",
      "86\n",
      "88\n",
      "90\n",
      "92\n",
      "94\n",
      "96\n",
      "98\n",
      "100\n"
     ]
    }
   ],
   "source": [
    "for i in range(1, 101):\n",
    "\tif int(i*0.5)==i*0.5:\n",
    "\t\tprint(i)"
   ]
  },
  {
   "cell_type": "code",
   "execution_count": 109,
   "metadata": {},
   "outputs": [
    {
     "data": {
      "text/plain": [
       "['good']"
      ]
     },
     "execution_count": 109,
     "metadata": {},
     "output_type": "execute_result"
    }
   ],
   "source": [
    "l=[\"good\", \"oh!\", \"excellent!\", \"#450\"]\n",
    "[n for n in l if n.isalpha() or n.isdigit()]"
   ]
  },
  {
   "cell_type": "code",
   "execution_count": 110,
   "metadata": {},
   "outputs": [
    {
     "data": {
      "text/plain": [
       "[2, 5, 8]"
      ]
     },
     "execution_count": 110,
     "metadata": {},
     "output_type": "execute_result"
    }
   ],
   "source": [
    "A = [[1, 2, 3],\n",
    "      [4, 5, 6],\n",
    "      [7, 8, 9]]\n",
    "[A[row][1] for row in (0, 1, 2)]"
   ]
  },
  {
   "cell_type": "code",
   "execution_count": 112,
   "metadata": {},
   "outputs": [
    {
     "data": {
      "text/plain": [
       "[[11, 12, 13], [14, 15, 16]]"
      ]
     },
     "execution_count": 112,
     "metadata": {},
     "output_type": "execute_result"
    }
   ],
   "source": [
    "l=[[1, 2, 3], [4, 5, 6]]\n",
    "for i in range(len(l)):\n",
    "\tfor j in range(len(l[i])):\n",
    "\t\tl[i][j]+=10\n",
    "l"
   ]
  },
  {
   "cell_type": "code",
   "execution_count": 113,
   "metadata": {},
   "outputs": [
    {
     "data": {
      "text/plain": [
       "[[3, 6, 9], [16, 20, 24], [35, 40, 45]]"
      ]
     },
     "execution_count": 113,
     "metadata": {},
     "output_type": "execute_result"
    }
   ],
   "source": [
    "A = [[1, 2, 3],\n",
    "     [4, 5, 6],\n",
    "     [7, 8, 9]]\n",
    "B = [[3, 3, 3],\n",
    "     [4, 4, 4],\n",
    "     [5, 5, 5]]\n",
    "[[col1 * col2 for (col1, col2) in zip(row1, row2)] for (row1, row2) in zip(A, B)]"
   ]
  },
  {
   "cell_type": "code",
   "execution_count": 114,
   "metadata": {},
   "outputs": [
    {
     "data": {
      "text/plain": [
       "(2, 4)"
      ]
     },
     "execution_count": 114,
     "metadata": {},
     "output_type": "execute_result"
    }
   ],
   "source": [
    "t=(1,2,4,3)\n",
    "t[1:-1]"
   ]
  },
  {
   "cell_type": "code",
   "execution_count": 115,
   "metadata": {},
   "outputs": [
    {
     "data": {
      "text/plain": [
       "40"
      ]
     },
     "execution_count": 115,
     "metadata": {},
     "output_type": "execute_result"
    }
   ],
   "source": [
    "d = {\"john\":40, \"peter\":45}\n",
    "d[\"john\"]"
   ]
  },
  {
   "cell_type": "code",
   "execution_count": 1,
   "metadata": {},
   "outputs": [
    {
     "data": {
      "text/plain": [
       "[1, 4, 8]"
      ]
     },
     "execution_count": 1,
     "metadata": {},
     "output_type": "execute_result"
    }
   ],
   "source": [
    "t = (1, 2, 4, 3, 8, 9)\n",
    "[t[i] for i in range(0, len(t), 2)]"
   ]
  },
  {
   "cell_type": "code",
   "execution_count": 4,
   "metadata": {},
   "outputs": [
    {
     "name": "stdout",
     "output_type": "stream",
     "text": [
      "{(1, 2, 4): 8, (4, 2, 1): 10, (1, 2): 12}\n",
      "11\n",
      "21\n",
      "33\n"
     ]
    }
   ],
   "source": [
    "numberGames = {}\n",
    "numberGames[(1,2,4)] = 8\n",
    "numberGames[(4,2,1)] = 10\n",
    "numberGames[(1,2)] = 12\n",
    "print(numberGames)\n",
    "sum = 0\n",
    "for k in numberGames:\n",
    "    sum += numberGames[k]\n",
    "    print (len(numberGames) + sum)\n",
    "#Explanation: Tuples can be used for keys into dictionary. The tuples \n",
    "#can have mixed length and the order of the items in the tuple is considered when comparing the equality of the keys."
   ]
  },
  {
   "cell_type": "code",
   "execution_count": null,
   "metadata": {},
   "outputs": [],
   "source": [
    "a=(2,3,4)\n",
    "sum(a,3)\n",
    "#Explanation: In the above case, 3 is the starting value to which the sum of the tuple is added to."
   ]
  },
  {
   "cell_type": "code",
   "execution_count": null,
   "metadata": {},
   "outputs": [],
   "source": [
    "a=(0,1,2,3,4)\n",
    "b=slice(0,2)\n",
    "a[b]\n",
    "#The method illustrated in the above piece of code is that of naming of slices."
   ]
  },
  {
   "cell_type": "code",
   "execution_count": 5,
   "metadata": {},
   "outputs": [
    {
     "data": {
      "text/plain": [
       "a(i=4, j=7)"
      ]
     },
     "execution_count": 5,
     "metadata": {},
     "output_type": "execute_result"
    }
   ],
   "source": [
    "# A namedtuple assigns names, as well as the numerical index, to each member.\n",
    "import collections\n",
    "a=collections.namedtuple('a',['i','j'])\n",
    "obj=a(i=4,j=7)\n",
    "obj"
   ]
  },
  {
   "cell_type": "code",
   "execution_count": 6,
   "metadata": {},
   "outputs": [
    {
     "ename": "TypeError",
     "evalue": "unhashable type: 'list'",
     "output_type": "error",
     "traceback": [
      "\u001b[0;31m---------------------------------------------------------------------------\u001b[0m",
      "\u001b[0;31mTypeError\u001b[0m                                 Traceback (most recent call last)",
      "\u001b[0;32m<ipython-input-6-313612c30cef>\u001b[0m in \u001b[0;36m<module>\u001b[0;34m()\u001b[0m\n\u001b[0;32m----> 1\u001b[0;31m \u001b[0mset\u001b[0m\u001b[0;34m(\u001b[0m\u001b[0;34m[\u001b[0m\u001b[0;34m[\u001b[0m\u001b[0;36m1\u001b[0m\u001b[0;34m,\u001b[0m\u001b[0;36m2\u001b[0m\u001b[0;34m]\u001b[0m\u001b[0;34m,\u001b[0m\u001b[0;34m[\u001b[0m\u001b[0;36m3\u001b[0m\u001b[0;34m,\u001b[0m\u001b[0;36m4\u001b[0m\u001b[0;34m]\u001b[0m\u001b[0;34m]\u001b[0m\u001b[0;34m)\u001b[0m\u001b[0;34m\u001b[0m\u001b[0m\n\u001b[0m\u001b[1;32m      2\u001b[0m \u001b[0;31m#The argument given for the set must be an iterable.\u001b[0m\u001b[0;34m\u001b[0m\u001b[0;34m\u001b[0m\u001b[0m\n",
      "\u001b[0;31mTypeError\u001b[0m: unhashable type: 'list'"
     ]
    }
   ],
   "source": [
    "set([[1,2],[3,4]])\n",
    "#The argument given for the set must be an iterable."
   ]
  },
  {
   "cell_type": "code",
   "execution_count": 7,
   "metadata": {},
   "outputs": [
    {
     "name": "stdout",
     "output_type": "stream",
     "text": [
      "5 5 6 7 7 7 "
     ]
    }
   ],
   "source": [
    "a = [5,5,6,7,7,7]\n",
    "b = set(a)\n",
    "def test(lst):\n",
    "    if lst in b:\n",
    "        return 1\n",
    "    else:\n",
    "        return 0\n",
    "for i in  filter(test, a):\n",
    "    print(i,end=\" \")\n",
    "#Explanation: The filter function will return all the values from list a which are true when passed to function test. \n",
    "#Since all the members of the set are non-duplicate\n",
    "#members of the list, all of the values will return true. Hence all the values in the list are printed."
   ]
  },
  {
   "cell_type": "code",
   "execution_count": 8,
   "metadata": {},
   "outputs": [
    {
     "data": {
      "text/plain": [
       "True"
      ]
     },
     "execution_count": 8,
     "metadata": {},
     "output_type": "execute_result"
    }
   ],
   "source": [
    "a={5,4}\n",
    "b={1,2,4,5}\n",
    "a<b\n",
    "#Explanation: a<b returns True if a is a proper subset of b."
   ]
  },
  {
   "cell_type": "code",
   "execution_count": 9,
   "metadata": {},
   "outputs": [
    {
     "data": {
      "text/plain": [
       "{1: 'a', 2: 'b', 3: 'c'}"
      ]
     },
     "execution_count": 9,
     "metadata": {},
     "output_type": "execute_result"
    }
   ],
   "source": [
    "a={\"a\":1,\"b\":2,\"c\":3}\n",
    "b=dict(zip(a.values(),a.keys()))\n",
    "b"
   ]
  },
  {
   "cell_type": "code",
   "execution_count": 10,
   "metadata": {},
   "outputs": [
    {
     "name": "stdout",
     "output_type": "stream",
     "text": [
      "10\n",
      "56\n"
     ]
    }
   ],
   "source": [
    "a=10\n",
    "b=20\n",
    "def change():\n",
    "    global b\n",
    "    a=45\n",
    "    b=56\n",
    "change()\n",
    "print(a)\n",
    "print(b)"
   ]
  },
  {
   "cell_type": "markdown",
   "metadata": {},
   "source": [
    "https://realpython.com/working-with-files-in-python/"
   ]
  },
  {
   "cell_type": "code",
   "execution_count": 11,
   "metadata": {},
   "outputs": [
    {
     "name": "stdout",
     "output_type": "stream",
     "text": [
      "False\n",
      "True\n"
     ]
    }
   ],
   "source": [
    "# Binary search\n",
    "def binary_search(item_list,item):\n",
    "    first = 0\n",
    "    last = len(item_list)-1\n",
    "    found = False\n",
    "    while( first<=last and not found):\n",
    "        mid = (first + last)//2\n",
    "        if item_list[mid] == item :\n",
    "            found = True\n",
    "        else:\n",
    "            if item < item_list[mid]:\n",
    "                last = mid - 1\n",
    "            else:\n",
    "                first = mid + 1    \n",
    "    return found\n",
    "    \n",
    "print(binary_search([1,2,3,5,8], 6))\n",
    "print(binary_search([1,2,3,5,8], 5))"
   ]
  },
  {
   "cell_type": "code",
   "execution_count": 12,
   "metadata": {},
   "outputs": [
    {
     "name": "stdout",
     "output_type": "stream",
     "text": [
      "Sorted array\n",
      "11\n",
      "12\n",
      "22\n",
      "25\n",
      "64\n"
     ]
    }
   ],
   "source": [
    "# Selection search\n",
    "import sys \n",
    "A = [64, 25, 12, 22, 11] \n",
    "for i in range(len(A)): \n",
    "      \n",
    "    # Find the minimum element in remaining  \n",
    "    # unsorted array \n",
    "    min_idx = i \n",
    "    for j in range(i+1, len(A)): \n",
    "        if A[min_idx] > A[j]: \n",
    "            min_idx = j \n",
    "              \n",
    "    # Swap the found minimum element with  \n",
    "    # the first element         \n",
    "    A[i], A[min_idx] = A[min_idx], A[i] \n",
    "# Driver code to test above \n",
    "print (\"Sorted array\") \n",
    "for i in range(len(A)): \n",
    "    print(\"%d\" %A[i]),  "
   ]
  },
  {
   "cell_type": "code",
   "execution_count": 14,
   "metadata": {},
   "outputs": [
    {
     "name": "stdout",
     "output_type": "stream",
     "text": [
      "11\n",
      "12\n",
      "22\n",
      "25\n",
      "64\n"
     ]
    }
   ],
   "source": [
    "# Insertion sort\n",
    "def insertionSort(arr): \n",
    "  \n",
    "    # Traverse through 1 to len(arr) \n",
    "    for i in range(1, len(arr)): \n",
    "  \n",
    "        key = arr[i] \n",
    "  \n",
    "        # Move elements of arr[0..i-1], that are \n",
    "        # greater than key, to one position ahead \n",
    "        # of their current position \n",
    "        j = i-1\n",
    "        while j >=0 and key < arr[j] : \n",
    "                arr[j+1] = arr[j] \n",
    "                j -= 1\n",
    "        arr[j+1] = key \n",
    "# Driver code to test above \n",
    "arr = [64, 25, 12, 22, 11] \n",
    "insertionSort(arr) \n",
    "for i in range(len(arr)): \n",
    "    print (\"%d\" %arr[i]) "
   ]
  },
  {
   "cell_type": "code",
   "execution_count": 25,
   "metadata": {},
   "outputs": [
    {
     "name": "stdout",
     "output_type": "stream",
     "text": [
      "Sorted array is:\n",
      "1\n",
      "5\n",
      "7\n",
      "8\n",
      "9\n",
      "10\n"
     ]
    }
   ],
   "source": [
    "## Quick sort\n",
    "def partition(arr,low,high): \n",
    "    i = ( low-1 )         # index of smaller element \n",
    "    pivot = arr[high]     # pivot \n",
    "  \n",
    "    for j in range(low , high): \n",
    "  \n",
    "        # If current element is smaller than or \n",
    "        # equal to pivot \n",
    "        if   arr[j] <= pivot: \n",
    "          \n",
    "            # increment index of smaller element \n",
    "            i = i+1 \n",
    "            arr[i],arr[j] = arr[j],arr[i] \n",
    "  \n",
    "    arr[i+1],arr[high] = arr[high],arr[i+1] \n",
    "    return ( i+1 ) \n",
    "  \n",
    "# The main function that implements QuickSort \n",
    "# arr[] --> Array to be sorted, \n",
    "# low  --> Starting index, \n",
    "# high  --> Ending index \n",
    "  \n",
    "# Function to do Quick sort \n",
    "def quickSort(arr,low,high): \n",
    "    if low < high: \n",
    "          # pi is partitioning index, arr[p] is now \n",
    "        # at right place \n",
    "        pi = partition(arr,low,high) \n",
    "  \n",
    "        # Separately sort elements before \n",
    "        # partition and after partition \n",
    "        quickSort(arr, low, pi-1) \n",
    "        quickSort(arr, pi+1, high) \n",
    "  \n",
    "# Driver code to test above \n",
    "arr = [10, 7, 8, 9, 1, 5] \n",
    "n = len(arr) \n",
    "quickSort(arr,0,n-1) \n",
    "print (\"Sorted array is:\") \n",
    "for i in range(n): \n",
    "    print (\"%d\" %arr[i]), "
   ]
  },
  {
   "cell_type": "code",
   "execution_count": 16,
   "metadata": {},
   "outputs": [
    {
     "name": "stdout",
     "output_type": "stream",
     "text": [
      "factorial has been called with n = 5\n",
      "factorial has been called with n = 4\n",
      "factorial has been called with n = 3\n",
      "factorial has been called with n = 2\n",
      "factorial has been called with n = 1\n",
      "intermediate result for  2  * factorial( 1 ):  2\n",
      "intermediate result for  3  * factorial( 2 ):  6\n",
      "intermediate result for  4  * factorial( 3 ):  24\n",
      "intermediate result for  5  * factorial( 4 ):  120\n",
      "120\n"
     ]
    }
   ],
   "source": [
    "def factorial(n):\n",
    "    print(\"factorial has been called with n = \" + str(n))\n",
    "    if n == 1:\n",
    "        return 1\n",
    "    else:\n",
    "        res = n * factorial(n-1)\n",
    "        print(\"intermediate result for \", n, \" * factorial(\" ,n-1, \"): \",res)\n",
    "        return res\t\n",
    "\n",
    "print(factorial(5))\n"
   ]
  },
  {
   "cell_type": "code",
   "execution_count": 20,
   "metadata": {},
   "outputs": [
    {
     "name": "stdout",
     "output_type": "stream",
     "text": [
      "Yes\n"
     ]
    }
   ],
   "source": [
    "## Palindrome\n",
    "def reverse(s): \n",
    "    return s[::-1] \n",
    "  \n",
    "def isPalindrome(s): \n",
    "    # Calling reverse function \n",
    "    rev = reverse(s) \n",
    "  \n",
    "    # Checking if both string are equal or not \n",
    "    if (s == rev): \n",
    "        return True\n",
    "    return False\n",
    "  \n",
    "  \n",
    "# Driver code \n",
    "s = \"malayalam\"\n",
    "ans = isPalindrome(s) \n",
    "  \n",
    "if ans == 1: \n",
    "    print(\"Yes\") \n",
    "else: \n",
    "    print(\"No\") "
   ]
  },
  {
   "cell_type": "code",
   "execution_count": 21,
   "metadata": {},
   "outputs": [
    {
     "name": "stdout",
     "output_type": "stream",
     "text": [
      "8\n"
     ]
    }
   ],
   "source": [
    "def power(x, y): \n",
    "  \n",
    "    if (y == 0): return 1\n",
    "    elif (int(y % 2) == 0): \n",
    "        return (power(x, int(y / 2)) *\n",
    "               power(x, int(y / 2))) \n",
    "    else: \n",
    "        return (x * power(x, int(y / 2)) *\n",
    "                   power(x, int(y / 2))) \n",
    "  \n",
    "# Driver Code \n",
    "x = 2; y = 3\n",
    "print(power(x, y)) "
   ]
  },
  {
   "cell_type": "code",
   "execution_count": 23,
   "metadata": {},
   "outputs": [],
   "source": [
    "import turtle\n",
    "\n",
    "def drawTriangle(points,color,myTurtle):\n",
    "    myTurtle.fillcolor(color)\n",
    "    myTurtle.up()\n",
    "    myTurtle.goto(points[0][0],points[0][1])\n",
    "    myTurtle.down()\n",
    "    myTurtle.begin_fill()\n",
    "    myTurtle.goto(points[1][0],points[1][1])\n",
    "    myTurtle.goto(points[2][0],points[2][1])\n",
    "    myTurtle.goto(points[0][0],points[0][1])\n",
    "    myTurtle.end_fill()\n",
    "\n",
    "def getMid(p1,p2):\n",
    "    return ( (p1[0]+p2[0]) / 2, (p1[1] + p2[1]) / 2)\n",
    "\n",
    "def sierpinski(points,degree,myTurtle):\n",
    "    colormap = ['blue','red','green','white','yellow',\n",
    "                'violet','orange']\n",
    "    drawTriangle(points,colormap[degree],myTurtle)\n",
    "    if degree > 0:\n",
    "        sierpinski([points[0],\n",
    "                        getMid(points[0], points[1]),\n",
    "                        getMid(points[0], points[2])],\n",
    "                   degree-1, myTurtle)\n",
    "        sierpinski([points[1],\n",
    "                        getMid(points[0], points[1]),\n",
    "                        getMid(points[1], points[2])],\n",
    "                   degree-1, myTurtle)\n",
    "        sierpinski([points[2],\n",
    "                        getMid(points[2], points[1]),\n",
    "                        getMid(points[0], points[2])],\n",
    "                   degree-1, myTurtle)\n",
    "\n",
    "def main():\n",
    "   myTurtle = turtle.Turtle()\n",
    "   myWin = turtle.Screen()\n",
    "   myPoints = [[-100,-50],[0,100],[100,-50]]\n",
    "   sierpinski(myPoints,3,myTurtle)\n",
    "   myWin.exitonclick()\n",
    "\n",
    "main()\n"
   ]
  },
  {
   "cell_type": "code",
   "execution_count": null,
   "metadata": {},
   "outputs": [],
   "source": []
  }
 ],
 "metadata": {
  "kernelspec": {
   "display_name": "Python 3",
   "language": "python",
   "name": "python3"
  },
  "language_info": {
   "codemirror_mode": {
    "name": "ipython",
    "version": 3
   },
   "file_extension": ".py",
   "mimetype": "text/x-python",
   "name": "python",
   "nbconvert_exporter": "python",
   "pygments_lexer": "ipython3",
   "version": "3.6.5"
  }
 },
 "nbformat": 4,
 "nbformat_minor": 2
}
