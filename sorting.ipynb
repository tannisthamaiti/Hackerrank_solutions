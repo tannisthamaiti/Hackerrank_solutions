{
 "cells": [
  {
   "cell_type": "code",
   "execution_count": 4,
   "metadata": {},
   "outputs": [],
   "source": [
    "import numpy as np"
   ]
  },
  {
   "cell_type": "code",
   "execution_count": 19,
   "metadata": {},
   "outputs": [],
   "source": [
    "def binary_insertion_sort(arr,n, V):\n",
    "    L = 0\n",
    "    R = n-1\n",
    "    m=0\n",
    "    while m<n:\n",
    "        m =  int(np.floor((L+R)/2))\n",
    "        if arr[m]== V:\n",
    "            return(m)\n",
    "        elif arr[m]<V:\n",
    "            L =L+1\n",
    "        else: \n",
    "            R=R-1\n",
    "            \n",
    "arr1 = binary_insertion_sort([ 0, 12, 17, 23, 31, 37, 46, 54, 72, 88, 100], 11, 88)       \n",
    "# find 54    "
   ]
  },
  {
   "cell_type": "code",
   "execution_count": null,
   "metadata": {},
   "outputs": [],
   "source": [
    "## Majority element using Boer- Moore majority vote algorithm\n",
    "/* low  --> Starting index,  high  --> Ending index */\n",
    "quickSort(arr[], low, high)\n",
    "{\n",
    "    if (low < high)\n",
    "    {\n",
    "        /* pi is partitioning index, arr[p] is now\n",
    "           at right place */\n",
    "        pi = partition(arr, low, high);\n",
    "\n",
    "        quickSort(arr, low, pi - 1);  // Before pi\n",
    "        quickSort(arr, pi + 1, high); // After pi\n",
    "    }\n",
    "}"
   ]
  },
  {
   "cell_type": "code",
   "execution_count": 44,
   "metadata": {},
   "outputs": [],
   "source": [
    "def partition(arr, low, high):\n",
    "    i=low-1\n",
    "    p= arr[high]\n",
    "    for j in range(low, high):\n",
    "        j=j+1\n",
    "        # at every swap increase i\n",
    "        if arr[j] <= p:\n",
    "            i=i+1\n",
    "            arr[i],arr[j] = arr[j],arr[i]\n",
    "    arr[i+1],arr[high] = arr[high],arr[i+1]\n",
    "    return(i+1)        \n",
    "def quickSort(arr,low,high): \n",
    "    if low < high: \n",
    "  \n",
    "        # pi is partitioning index, arr[p] is now \n",
    "        # at right place \n",
    "        pi = partition(arr,low,high) \n",
    "  \n",
    "        # Separately sort elements before \n",
    "        # partition and after partition \n",
    "        quickSort(arr, low, pi-1) \n",
    "        quickSort(arr, pi+1, high)\n",
    "        return(arr)"
   ]
  },
  {
   "cell_type": "code",
   "execution_count": 45,
   "metadata": {},
   "outputs": [
    {
     "name": "stdout",
     "output_type": "stream",
     "text": [
      "2\n",
      "1\n",
      "4\n",
      "[5, 1, 7, 8, 9, 10]\n"
     ]
    }
   ],
   "source": [
    "arr = [10, 7, 8, 9, 1, 5] \n",
    "n = len(arr) \n",
    "print(quickSort(arr,0,n-1)) "
   ]
  },
  {
   "cell_type": "code",
   "execution_count": null,
   "metadata": {},
   "outputs": [],
   "source": [
    "def merge(Arr, start, mid, end):\n",
    "    # create a temp array\n",
    "    temp = [0]*(end-start+1)\n",
    "    # crawlers for both intervals and for temp\n",
    "\ti, j, k = start, mid+1, 0\n",
    "    # traverse both lists and in each iteration add smaller of both elements in temp \n",
    "    while (i<= mid and j<=end):\n",
    "        if(Arr[i] <= Arr[j]) :\n",
    "\t\t\ttemp[k] = Arr[i]\n",
    "\t\t\tk += 1; i += 1\n",
    "\t\telse :\n",
    "\t\t\ttemp[k] = Arr[j]\n",
    "\t\t\tk += 1; j += 1\n",
    "            # add elements left in the first interval \n",
    "\twhile(i <= mid) \n",
    "\t\ttemp[k] = Arr[i]\n",
    "\t\tk += 1; i += 1\n",
    "\n",
    "\t# add elements left in the second interval \n",
    "\twhile(j <= end)\n",
    "\t\ttemp[k] = Arr[j]\n",
    "\t\tk += 1; j += 1\n",
    "\n",
    "\t# copy temp to original interval\n",
    "\tfor(i = start; i <= end; i += 1)\n",
    "\t\tArr[i] = temp[i - start]\n",
    "        \n",
    "def mergeSort(Arr, start, end) {\n",
    "\n",
    "\tif(start < end) :\n",
    "\t\tmid = (start + end) / 2\n",
    "\t\tmergeSort(Arr, start, mid)\n",
    "\t\tmergeSort(Arr, mid+1, end)\n",
    "\t\tmerge(Arr, start, mid, end)\n",
    "    \n",
    "    "
   ]
  },
  {
   "cell_type": "code",
   "execution_count": null,
   "metadata": {},
   "outputs": [],
   "source": [
    "\n",
    "# Python program to merge \n",
    "# two sorted arrays \n",
    "  \n",
    "# Merge arr1[0..n1-1] and  \n",
    "# arr2[0..n2-1] into  \n",
    "# arr3[0..n1+n2-1] \n",
    "def mergeArrays(arr1, arr2, n1, n2): \n",
    "    arr3 = [None] * (n1 + n2) \n",
    "    i = 0\n",
    "    j = 0\n",
    "    k = 0\n",
    "  \n",
    "    # Traverse both array \n",
    "    while i < n1 and j < n2: \n",
    "      \n",
    "        # Check if current element  \n",
    "        # of first array is smaller  \n",
    "        # than current element of  \n",
    "        # second array. If yes,  \n",
    "        # store first array element  \n",
    "        # and increment first array \n",
    "        # index. Otherwise do same  \n",
    "        # with second array \n",
    "        if arr1[i] < arr2[j]: \n",
    "            arr3[k] = arr1[i] \n",
    "            k = k + 1\n",
    "            i = i + 1\n",
    "        else: \n",
    "            arr3[k] = arr2[j] \n",
    "            k = k + 1\n",
    "            j = j + 1\n",
    "      \n",
    "  \n",
    "    # Store remaining elements \n",
    "    # of first array \n",
    "    while i < n1: \n",
    "        arr3[k] = arr1[i]; \n",
    "        k = k + 1\n",
    "        i = i + 1\n",
    "  \n",
    "    # Store remaining elements  \n",
    "    # of second array \n",
    "    while j < n2: \n",
    "        arr3[k] = arr2[j]; \n",
    "        k = k + 1\n",
    "        j = j + 1\n",
    "    print(\"Array after merging\") \n",
    "    for i in range(n1 + n2): \n",
    "        print(str(arr3[i]), end = \" \") "
   ]
  }
 ],
 "metadata": {
  "kernelspec": {
   "display_name": "Python 3",
   "language": "python",
   "name": "python3"
  },
  "language_info": {
   "codemirror_mode": {
    "name": "ipython",
    "version": 3
   },
   "file_extension": ".py",
   "mimetype": "text/x-python",
   "name": "python",
   "nbconvert_exporter": "python",
   "pygments_lexer": "ipython3",
   "version": "3.7.3"
  }
 },
 "nbformat": 4,
 "nbformat_minor": 2
}
