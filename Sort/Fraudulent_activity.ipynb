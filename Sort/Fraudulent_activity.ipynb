{
 "cells": [
  {
   "cell_type": "code",
   "execution_count": 3,
   "metadata": {},
   "outputs": [],
   "source": [
    "import bisect\n",
    "from math import ceil\n",
    "import math\n",
    "import os\n",
    "import random\n",
    "import re\n",
    "import sys"
   ]
  },
  {
   "cell_type": "markdown",
   "metadata": {},
   "source": [
    "https://www.hackerrank.com/challenges/fraudulent-activity-notifications/problem?h_l=interview&playlist_slugs%5B%5D=interview-preparation-kit&playlist_slugs%5B%5D=sorting"
   ]
  },
  {
   "cell_type": "code",
   "execution_count": 26,
   "metadata": {},
   "outputs": [],
   "source": [
    "def get_median(counting_sort_list, d, median_position):\n",
    "    counter, left = 0, 0\n",
    "    while counter < median_position:\n",
    "        counter += counting_sort_list[left]\n",
    "        left += 1\n",
    "    right = left\n",
    "    left -= 1\n",
    "    if counter > median_position or d % 2 != 0:\n",
    "        return left\n",
    "    else:\n",
    "        while counting_sort_list[right] == 0:\n",
    "            right += 1\n",
    "        return(left+right/2)"
   ]
  },
  {
   "cell_type": "code",
   "execution_count": 27,
   "metadata": {},
   "outputs": [],
   "source": [
    "def activityNotifications(expenditure, d): \n",
    "    counting_sort_list = [0]*201\n",
    "    end = d\n",
    "    for i in range(0,end):\n",
    "        counting_sort_list[expenditure[i]] +=1\n",
    "\n",
    "    current = 0\n",
    "    total_notification = 0\n",
    "    if d % 2 == 0:\n",
    "        median_position = int(d/2)\n",
    "    else: \n",
    "        median_position = int(d/2) + 1\n",
    "\n",
    "    total_expenditure_length = len(expenditure)\n",
    "    while end < total_expenditure_length:\n",
    "        median = get_median(counting_sort_list,d,median_position)\n",
    "        if expenditure[end]>= median*2:\n",
    "            total_notification += 1\n",
    "        counting_sort_list[expenditure[current]]-=1\n",
    "        counting_sort_list[expenditure[end]] +=1\n",
    "        current +=1\n",
    "        end += 1\n",
    "    \n",
    "    return total_notification\n",
    "    "
   ]
  },
  {
   "cell_type": "code",
   "execution_count": 29,
   "metadata": {},
   "outputs": [
    {
     "name": "stdout",
     "output_type": "stream",
     "text": [
      "9 5\n",
      "2 3 4 2 3 6 8 4 5\n",
      "2\n"
     ]
    }
   ],
   "source": [
    "if __name__ == '__main__':\n",
    "    #fptr = open(os.environ['OUTPUT_PATH'], 'w')\n",
    "\n",
    "    nd = input().split()\n",
    "\n",
    "    n = int(nd[0])\n",
    "\n",
    "    d = int(nd[1])\n",
    "\n",
    "    expenditure = list(map(int, input().rstrip().split()))\n",
    "\n",
    "    result = activityNotifications(expenditure, d)\n",
    "    print(str(result))\n",
    "\n",
    "    #fptr.write(str(result) + '\\n')\n",
    "\n",
    "    #fptr.close()\n"
   ]
  },
  {
   "cell_type": "code",
   "execution_count": null,
   "metadata": {},
   "outputs": [],
   "source": []
  }
 ],
 "metadata": {
  "kernelspec": {
   "display_name": "Python 3",
   "language": "python",
   "name": "python3"
  },
  "language_info": {
   "codemirror_mode": {
    "name": "ipython",
    "version": 3
   },
   "file_extension": ".py",
   "mimetype": "text/x-python",
   "name": "python",
   "nbconvert_exporter": "python",
   "pygments_lexer": "ipython3",
   "version": "3.6.5"
  }
 },
 "nbformat": 4,
 "nbformat_minor": 2
}
