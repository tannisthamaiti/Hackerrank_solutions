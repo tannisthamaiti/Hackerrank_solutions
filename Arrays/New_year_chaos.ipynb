{
 "cells": [
  {
   "cell_type": "code",
   "execution_count": 1,
   "metadata": {},
   "outputs": [],
   "source": [
    "import math\n",
    "import os\n",
    "import random\n",
    "import re\n",
    "import sys"
   ]
  },
  {
   "cell_type": "markdown",
   "metadata": {},
   "source": [
    "### New year chaos\n",
    "https://www.hackerrank.com/challenges/new-year-chaos/problem?h_l=interview&playlist_slugs%5B%5D=interview-preparation-kit&playlist_slugs%5B%5D=arrays"
   ]
  },
  {
   "cell_type": "code",
   "execution_count": 12,
   "metadata": {},
   "outputs": [],
   "source": [
    "def swap(intermediate_q, i):\n",
    "    intermediate_q[i], intermediate_q[i-1] = intermediate_q[i-1], intermediate_q[i]\n",
    "    return(intermediate_q)\n",
    "\n",
    "\n",
    "# Increment bribes and total_bribes\n",
    "def compute_bribes(bribes, total_bribes):\n",
    "    if bribes + 1 == 3:\n",
    "        return (-1, -1)\n",
    "    return (bribes + 1, total_bribes + 1)\n",
    "def minimumBribes(queue):\n",
    "    \"\"\"Take a queue (list of int) as a parameter and return the number of brides or None.\"\"\"\n",
    "    n = len(queue)\n",
    "    initial_q = list(i + 1 for i in range(n))\n",
    "    total_bribes = 0\n",
    "    chaos_flag = False\n",
    "    for i in range(n):\n",
    "        bribes = 0\n",
    "        # If the position in the initial/transition queue is not equal to the position in the final queue\n",
    "        # queue is the input against which swaps are made in my initial_q.\n",
    "        if queue.index(initial_q[i]) != initial_q.index(initial_q[i]):\n",
    "            index_in_initial_q = initial_q.index(queue[i])\n",
    "            index_in_queue = queue.index(queue[i])\n",
    "            while index_in_initial_q != index_in_queue:\n",
    "                initial_q = swap(initial_q, index_in_initial_q)\n",
    "                bribes, total_bribes = compute_bribes(bribes, total_bribes)\n",
    "                if bribes == -1:\n",
    "                    return None\n",
    "                index_in_initial_q -= 1\n",
    "    return total_bribes\n",
    "\n",
    "\n",
    "\n",
    "#def unit_tests():\n",
    "#    assert get_number_brides([2, 1, 5, 3, 4]) == 3\n",
    "#    assert get_number_brides([2, 5, 1, 3, 4]) is None"
   ]
  },
  {
   "cell_type": "code",
   "execution_count": 13,
   "metadata": {},
   "outputs": [
    {
     "name": "stdout",
     "output_type": "stream",
     "text": [
      "2\n",
      "5\n",
      "2 1 5 3 4\n",
      "3\n",
      "5\n",
      "2 5 1 3 4\n",
      "Too chaotic\n"
     ]
    }
   ],
   "source": [
    "if __name__ == '__main__':\n",
    "    t = int(input())\n",
    "\n",
    "    for t_itr in range(t):\n",
    "        n = int(input())\n",
    "\n",
    "        q = list(map(int, input().rstrip().split()))\n",
    "        ret = minimumBribes(q)\n",
    "        print('Too chaotic' if ret is None else ret)"
   ]
  },
  {
   "cell_type": "code",
   "execution_count": null,
   "metadata": {},
   "outputs": [],
   "source": []
  }
 ],
 "metadata": {
  "kernelspec": {
   "display_name": "Python 3",
   "language": "python",
   "name": "python3"
  },
  "language_info": {
   "codemirror_mode": {
    "name": "ipython",
    "version": 3
   },
   "file_extension": ".py",
   "mimetype": "text/x-python",
   "name": "python",
   "nbconvert_exporter": "python",
   "pygments_lexer": "ipython3",
   "version": "3.6.5"
  }
 },
 "nbformat": 4,
 "nbformat_minor": 2
}
