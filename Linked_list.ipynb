{
 "cells": [
  {
   "cell_type": "markdown",
   "metadata": {},
   "source": [
    "1) Create an empty stack.\n",
    "\n",
    "2) Start from first bar, and do following for every bar ‘hist[i]’ where ‘i’ varies from 0 to n-1.\n",
    "……a) If stack is empty or hist[i] is higher than the bar at top of stack, then push ‘i’ to stack.\n",
    "……b) If this bar is smaller than the top of stack, then keep removing the top of stack while top of the stack is greater. Let the removed bar be hist[tp]. Calculate area of rectangle with hist[tp] as smallest bar. For hist[tp], the ‘left index’ is previous (previous to tp) item in stack and ‘right index’ is ‘i’ (current index).\n",
    "\n",
    "3) If the stack is not empty, then one by one remove all bars from stack and do step 2.b for every removed bar."
   ]
  },
  {
   "cell_type": "code",
   "execution_count": 2,
   "metadata": {},
   "outputs": [
    {
     "name": "stdout",
     "output_type": "stream",
     "text": [
      "Maximum area is 12\n"
     ]
    }
   ],
   "source": [
    "def computeLargestArea(hist, N):\n",
    "    stack = []\n",
    "    max_area = 0 # Initalize max area \n",
    "  \n",
    "    # Run through all bars of \n",
    "    # given histogram \n",
    "    idx = 0\n",
    "    while (idx < N):\n",
    "        if not stack or hist[idx]>hist[stack[-1]]:\n",
    "            stack.append(idx)\n",
    "            idx += 1\n",
    "        else:\n",
    "            height_idx = stack.pop()\n",
    "            depth = idx\n",
    "            if stack:\n",
    "                depth = idx - stack[-1] - 1\n",
    "            area = hist[height_idx] * depth\n",
    "            max_area = max(area, max_area)\n",
    "    while stack:\n",
    "        height_idx = stack.pop()\n",
    "        depth = idx\n",
    "        if stack:\n",
    "            depth = idx - stack[-1] - 1\n",
    "        area = hist[height_idx] * depth\n",
    "        max_area = max(area, max_area)\n",
    "    return max_area\n",
    "hist = [6, 2, 5, 4, 5, 1, 6] \n",
    "print(\"Maximum area is\",  \n",
    "       computeLargestArea(hist, 7)) "
   ]
  },
  {
   "cell_type": "markdown",
   "metadata": {},
   "source": [
    "1) O(N) solution is possible using stacks.\n",
    "\n",
    "2) Think about how to identify the largest window a number is the minimum for (e.g. for the sequence 11 2 3 14 5 2 11 12 we would make a map of number -> window_size as max_window = {11: 2, 2: 8, 3: 3, 14: 1, 5: 2, 12: 1}) - this can be done using stacks in O(n)\n",
    "\n",
    "3) Invert the max_window hashmap breaking ties by taking the maximum value to store a mapping of windowsize -> maximum_value (continuing with example above inverted_windows = {1: 14, 8:2, 3:3, 2:11}\n",
    "\n",
    "4) starting from w=len(arr) iterate down to a window size of 1, looking up the corresponding values in inverted_windows and fill missing values with the previous largest window value (continuing with the example result = [2, 2, 2, 2, 2, 3, 11, 14] )\n",
    "\n",
    "5) Return the result in reverse order (return [14, 11, 3, 2, 2, 2, 2, 2])"
   ]
  },
  {
   "cell_type": "code",
   "execution_count": 6,
   "metadata": {},
   "outputs": [
    {
     "name": "stdout",
     "output_type": "stream",
     "text": [
      "12 2 1 1\n"
     ]
    }
   ],
   "source": [
    "from collections import defaultdict\n",
    "\n",
    "def riddle(arr):\n",
    "    stack = []\n",
    "    arr.append(0)\n",
    "    d=defaultdict(int)\n",
    "    for i,j in enumerate(arr):           #making of step 2 \n",
    "        t=i\n",
    "        while stack and stack[-1][0]>=j:\n",
    "            val,li = stack.pop()\n",
    "            d[j]=max(d[j],i-li+1)\n",
    "            d[val]=max(d[val],i-li)\n",
    "            t=li\n",
    "        stack.append((j,t))\n",
    "    #print(d)\n",
    "    del d[0]\n",
    "    e=defaultdict(int)\n",
    "    for i in d:                           #making of step 3\n",
    "        e[d[i]]=max(e[d[i]],i)\n",
    "    #print(e)\n",
    "    l=len(arr)\n",
    "    ans=[e[l-1]]                          #at the end, \"ans\" is our resulted list of step 4\n",
    "    for i in range(len(arr)-2,0,-1):      #making of step 4; step4: we have to add the largest value in ans(i.e. last value in ans) if the current value of e[i] is less than last value in ans, else we have to just append e[i] to ans.  \n",
    "        if e[i]<ans[-1]:\n",
    "            ans.append(ans[-1])\n",
    "        else:\n",
    "            ans.append(e[i])\n",
    "    print(*ans[::-1]) #step 5: print reverse ans\n",
    "hist = [2, 6, 1, 12] \n",
    "riddle(hist)"
   ]
  },
  {
   "cell_type": "markdown",
   "metadata": {},
   "source": [
    "https://github.com/rootulp/hackerrank/blob/master/python/min-max-riddle.py"
   ]
  },
  {
   "cell_type": "markdown",
   "metadata": {},
   "source": [
    "https://www.tutorialspoint.com/python/python_linked_lists.htm\n",
    "https://github.com/ehouarn-perret/EhouarnPerret.Python.HackerRank/tree/master/2%20-%20Data%20Structures/2%20-%20Linked%20Lists\n",
    "https://www.tutorialspoint.com/python/python_stack.htm"
   ]
  },
  {
   "cell_type": "markdown",
   "metadata": {},
   "source": [
    "self \n",
    "\n",
    "The word 'self' is used to represent the instance of a class. By using the \"self\" keyword we access the attributes and methods of the class in python.\n",
    "__init__ method\n",
    "\n",
    "\"__init__\" is a reseved method in python classes. It is called as a constructor in object oriented terminology. This method is called when an object is created from a class and it allows the class to initialize the attributes of the class.\n",
    "\n",
    "Find out the cost of a rectangular field with breadth(b=120), length(l=160). It costs x (2000) rupees per 1 square unit"
   ]
  },
  {
   "cell_type": "code",
   "execution_count": null,
   "metadata": {},
   "outputs": [],
   "source": [
    "class ThreeStacks:\n",
    "    def __init__(self, size):\n",
    "        self.size = size\n",
    "        self.lst = [None] * 3 * size\n",
    "        self.top = [0,0,0]\n",
    "\n",
    "    def push(data, stackNum):\n",
    "       if stackNum < 3 && stackNum >= 0:\n",
    "           lst[stackNum * size + top[stackNum]] = data\n",
    "           top[stackNum]++\n",
    "\n",
    "    def pop(stackNum):\n",
    "        if stackNum < 3 && stackNum >= 0:\n",
    "            temp = lst[top[stackNum]]\n",
    "            lst[top[stackNum]] = None\n",
    "            top[stackNum]--\n",
    "            return temp\n",
    "\n",
    "    def size(stackNum):\n",
    "         return top[stackNum]\n",
    "            \n",
    "\n"
   ]
  },
  {
   "cell_type": "markdown",
   "metadata": {},
   "source": [
    "https://www.sanfoundry.com/python-program-implement-queues-using-stacks/\n",
    "https://www.martinkysel.com/hackerrank-largest-rectangle-solution/\n",
    "https://github.com/mathiasarens/python-test/blob/master/Min%20Max%20Riddle.py\n",
    "https://www.martinkysel.com/hackerrank-castle-on-the-grid-solution/"
   ]
  },
  {
   "cell_type": "code",
   "execution_count": null,
   "metadata": {},
   "outputs": [],
   "source": []
  }
 ],
 "metadata": {
  "kernelspec": {
   "display_name": "Python 3",
   "language": "python",
   "name": "python3"
  },
  "language_info": {
   "codemirror_mode": {
    "name": "ipython",
    "version": 3
   },
   "file_extension": ".py",
   "mimetype": "text/x-python",
   "name": "python",
   "nbconvert_exporter": "python",
   "pygments_lexer": "ipython3",
   "version": "3.6.5"
  }
 },
 "nbformat": 4,
 "nbformat_minor": 2
}
