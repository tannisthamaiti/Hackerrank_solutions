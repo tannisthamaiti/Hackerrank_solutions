{
 "cells": [
  {
   "cell_type": "code",
   "execution_count": 1,
   "metadata": {},
   "outputs": [],
   "source": [
    "import math\n",
    "import os\n",
    "import random\n",
    "import re\n",
    "import sys"
   ]
  },
  {
   "cell_type": "markdown",
   "metadata": {},
   "source": [
    "https://www.hackerrank.com/challenges/frequency-queries/problem?h_l=interview&playlist_slugs%5B%5D=interview-preparation-kit&playlist_slugs%5B%5D=dictionaries-hashmaps"
   ]
  },
  {
   "cell_type": "code",
   "execution_count": 2,
   "metadata": {},
   "outputs": [],
   "source": [
    "def freqQuery(queries):\n",
    "    frequency = {}\n",
    "    results = []\n",
    "    frequencyValues = {}\n",
    "    for query in queries:\n",
    "        q = query[0]\n",
    "        val = query[1]\n",
    "        if q == 1:\n",
    "            frequency[val] = frequency.get(val, 0) + 1\n",
    "            freq = frequency[val]\n",
    "            frequencyValues[freq] = frequencyValues.get(freq, 0) + 1\n",
    "            frequencyValues[freq-1] = frequencyValues.get(freq-1, 1) - 1\n",
    "        elif q == 2:\n",
    "            if val in frequency.keys():\n",
    "                frequency[val] += - 1\n",
    "                if frequency[val] < 0:\n",
    "                    frequency[val] = 0\n",
    "                freq = frequency[val]\n",
    "                frequencyValues[freq + 1] = frequencyValues.get(freq + 1, 1) - 1\n",
    "                frequencyValues[freq] = frequencyValues.get(freq, 1) + 1\n",
    "        elif q == 3:\n",
    "            if val in frequencyValues.keys():\n",
    "                if frequencyValues[val] > 0:\n",
    "                    results.append(1)\n",
    "                else:\n",
    "                    results.append(0)\n",
    "            else:\n",
    "                results.append(0)\n",
    "\n",
    "\n",
    "    return results"
   ]
  },
  {
   "cell_type": "code",
   "execution_count": 7,
   "metadata": {},
   "outputs": [
    {
     "name": "stdout",
     "output_type": "stream",
     "text": [
      "4\n",
      "3 4\n",
      "2 1003\n",
      "1 16\n",
      "3 1\n",
      "0\n",
      "1\n"
     ]
    }
   ],
   "source": [
    "if __name__ == '__main__':\n",
    "    #fptr = open(os.environ['OUTPUT_PATH'], 'w')\n",
    "\n",
    "    q = int(input().strip())\n",
    "\n",
    "    queries = []\n",
    "\n",
    "    for _ in range(q):\n",
    "        queries.append(list(map(int, input().rstrip().split())))\n",
    "\n",
    "    ans = freqQuery(queries)\n",
    "    print('\\n'.join(map(str, ans)))\n",
    "\n",
    "    #fptr.write('\\n'.join(map(str, ans)))\n",
    "    #fptr.write('\\n')\n",
    "\n",
    "    #fptr.close()\n"
   ]
  },
  {
   "cell_type": "code",
   "execution_count": null,
   "metadata": {},
   "outputs": [],
   "source": []
  }
 ],
 "metadata": {
  "kernelspec": {
   "display_name": "Python 3",
   "language": "python",
   "name": "python3"
  },
  "language_info": {
   "codemirror_mode": {
    "name": "ipython",
    "version": 3
   },
   "file_extension": ".py",
   "mimetype": "text/x-python",
   "name": "python",
   "nbconvert_exporter": "python",
   "pygments_lexer": "ipython3",
   "version": "3.6.5"
  }
 },
 "nbformat": 4,
 "nbformat_minor": 2
}
