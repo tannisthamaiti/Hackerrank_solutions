{
 "cells": [
  {
   "cell_type": "code",
   "execution_count": 2,
   "metadata": {},
   "outputs": [],
   "source": [
    "import math\n",
    "import os\n",
    "import random\n",
    "import re\n",
    "import sys\n",
    "from collections import defaultdict"
   ]
  },
  {
   "cell_type": "markdown",
   "metadata": {},
   "source": [
    "https://www.hackerrank.com/challenges/count-triplets-1/problem?h_l=interview&playlist_slugs%5B%5D=interview-preparation-kit&playlist_slugs%5B%5D=dictionaries-hashmaps"
   ]
  },
  {
   "cell_type": "code",
   "execution_count": 3,
   "metadata": {},
   "outputs": [],
   "source": [
    "def countTriplets(arr, r):\n",
    "    sum_array=[]\n",
    "    if int(r)==1:\n",
    "        for x in range(len(arr)-1):\n",
    "            sum_array.append((x*(x+1))/2)\n",
    "        return int(sum(sum_array))    # change in this line\n",
    "    else:\n",
    "        exp_dict={}\n",
    "        tripletCount=0\n",
    "        for x in arr:\n",
    "\n",
    "            if x in exp_dict:\n",
    "                exp_dict[x]+=1\n",
    "            else:\n",
    "                exp_dict[x]=1\n",
    "        for y in exp_dict:\n",
    "            #print(y)\n",
    "\n",
    "            if ((y % r ==0) or (y==1)) and ((y*r in exp_dict) and (y*r*r in exp_dict)):\n",
    "                #print((exp_dict[y]*exp_dict[y*r]*exp_dict[y*r*r]))\n",
    "                tripletCount+=(exp_dict[y]*exp_dict[y*r]*exp_dict[y*r*r])\n",
    "                #print(\"hello I am a computer nerd\")\n",
    "\n",
    "        return tripletCount"
   ]
  },
  {
   "cell_type": "code",
   "execution_count": 4,
   "metadata": {},
   "outputs": [
    {
     "name": "stdout",
     "output_type": "stream",
     "text": [
      "6 3\n",
      "1 3 9 9 27 81\n",
      "6\n"
     ]
    }
   ],
   "source": [
    "if __name__ == '__main__':\n",
    "    #fptr = open(os.environ['OUTPUT_PATH'], 'w')\n",
    "\n",
    "    nr = input().rstrip().split()\n",
    "\n",
    "    n = int(nr[0])\n",
    "\n",
    "    r = int(nr[1])\n",
    "\n",
    "    arr = list(map(int, input().rstrip().split()))\n",
    "\n",
    "    ans = countTriplets(arr, r)\n",
    "    print(str(ans))\n",
    "\n",
    "    #fptr.write(str(ans) + '\\n')\n",
    "\n",
    "    #fptr.close()\n"
   ]
  },
  {
   "cell_type": "code",
   "execution_count": null,
   "metadata": {},
   "outputs": [],
   "source": []
  }
 ],
 "metadata": {
  "kernelspec": {
   "display_name": "Python 3",
   "language": "python",
   "name": "python3"
  },
  "language_info": {
   "codemirror_mode": {
    "name": "ipython",
    "version": 3
   },
   "file_extension": ".py",
   "mimetype": "text/x-python",
   "name": "python",
   "nbconvert_exporter": "python",
   "pygments_lexer": "ipython3",
   "version": "3.6.5"
  }
 },
 "nbformat": 4,
 "nbformat_minor": 2
}
